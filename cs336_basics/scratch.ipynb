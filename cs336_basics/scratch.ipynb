{
 "cells": [
  {
   "cell_type": "markdown",
   "metadata": {},
   "source": [
    "unicode1"
   ]
  },
  {
   "cell_type": "code",
   "execution_count": 90,
   "metadata": {},
   "outputs": [],
   "source": [
    "import itertools"
   ]
  },
  {
   "cell_type": "code",
   "execution_count": 60,
   "metadata": {},
   "outputs": [
    {
     "name": "stdout",
     "output_type": "stream",
     "text": [
      "['.envrc', 'flake.lock', 'cs336_basics.egg-info', 'LICENSE', 'cs336_basics', 'uv.lock', '.pytest_cache', 'CHANGELOG.md', 'pyproject.toml', 'tests', 'README.md', 'make_submission.sh', '.gitignore', 'flake.nix', '.venv', 'cs336_spring2025_assignment1_basics.pdf', '.git']\n"
     ]
    }
   ],
   "source": [
    "import os\n",
    "\n",
    "print(os.listdir(\".\"))\n"
   ]
  },
  {
   "cell_type": "code",
   "execution_count": 59,
   "metadata": {},
   "outputs": [],
   "source": [
    "import builtins"
   ]
  },
  {
   "cell_type": "code",
   "execution_count": 52,
   "metadata": {},
   "outputs": [],
   "source": [
    "import os\n",
    "from typing import BinaryIO"
   ]
  },
  {
   "cell_type": "code",
   "execution_count": 56,
   "metadata": {},
   "outputs": [],
   "source": [
    "import multiprocessing as mp"
   ]
  },
  {
   "cell_type": "code",
   "execution_count": 54,
   "metadata": {},
   "outputs": [
    {
     "name": "stderr",
     "output_type": "stream",
     "text": [
      "/Users/adr/code/assignment1-basics/.venv/lib/python3.12/site-packages/tqdm/auto.py:21: TqdmWarning: IProgress not found. Please update jupyter and ipywidgets. See https://ipywidgets.readthedocs.io/en/stable/user_install.html\n",
      "  from .autonotebook import tqdm as notebook_tqdm\n",
      "Generating train split: 100%|████████████████████████████████████████████████████████████████████████████████████████████████████████████████████████████████████████████████████████████████████████| 2119719/2119719 [00:02<00:00, 730198.03 examples/s]\n",
      "Generating validation split: 100%|███████████████████████████████████████████████████████████████████████████████████████████████████████████████████████████████████████████████████████████████████████| 21990/21990 [00:00<00:00, 739405.84 examples/s]\n"
     ]
    }
   ],
   "source": [
    "from datasets import load_dataset\n",
    "\n",
    "ds = load_dataset(\"roneneldan/TinyStories\")\n"
   ]
  },
  {
   "cell_type": "code",
   "execution_count": 50,
   "metadata": {},
   "outputs": [],
   "source": [
    "import regex as re"
   ]
  },
  {
   "cell_type": "code",
   "execution_count": 15,
   "metadata": {},
   "outputs": [
    {
     "data": {
      "text/plain": [
       "'\\x00'"
      ]
     },
     "execution_count": 15,
     "metadata": {},
     "output_type": "execute_result"
    }
   ],
   "source": [
    "a = chr(0)\n",
    "a"
   ]
  },
  {
   "cell_type": "code",
   "execution_count": 17,
   "metadata": {},
   "outputs": [
    {
     "data": {
      "text/plain": [
       "\"'\\\\x00'\""
      ]
     },
     "execution_count": 17,
     "metadata": {},
     "output_type": "execute_result"
    }
   ],
   "source": [
    "b = chr(0).__repr__()\n",
    "b"
   ]
  },
  {
   "cell_type": "code",
   "execution_count": 18,
   "metadata": {},
   "outputs": [
    {
     "data": {
      "text/plain": [
       "'this is a test\\x00string'"
      ]
     },
     "execution_count": 18,
     "metadata": {},
     "output_type": "execute_result"
    }
   ],
   "source": [
    "c = \"this is a test\" + chr(0) + \"string\"\n",
    "c"
   ]
  },
  {
   "cell_type": "code",
   "execution_count": 19,
   "metadata": {},
   "outputs": [
    {
     "name": "stdout",
     "output_type": "stream",
     "text": [
      "this is a test\u0000string\n"
     ]
    }
   ],
   "source": [
    "print(c)"
   ]
  },
  {
   "cell_type": "markdown",
   "metadata": {},
   "source": [
    "`chr(0)` is ignored when printed."
   ]
  },
  {
   "cell_type": "markdown",
   "metadata": {},
   "source": [
    "training the tokenizer directly on unicode codepoints would be impractical, \n",
    "because the vocabulary would be very large and sparse."
   ]
  },
  {
   "cell_type": "markdown",
   "metadata": {},
   "source": [
    "Instead we will use a unicode encoding, the standard itself defines 3: UTF-8 UTF-16, and UTF-32. With UTF-8 being the dominant encoding for text on the internet."
   ]
  },
  {
   "cell_type": "code",
   "execution_count": 28,
   "metadata": {},
   "outputs": [
    {
     "name": "stdout",
     "output_type": "stream",
     "text": [
      "b'hello! \\xe3\\x81\\x93\\xe3\\x82\\x93\\xe3\\x81\\xab\\xe3\\x81\\xa1\\xe3\\x81\\xaf'\n"
     ]
    }
   ],
   "source": [
    "test_string = \"hello! こんにちは\"\n",
    "utf_8_encoded = test_string.encode(\"utf-8\")\n",
    "print(utf_8_encoded)"
   ]
  },
  {
   "cell_type": "code",
   "execution_count": 29,
   "metadata": {},
   "outputs": [
    {
     "name": "stdout",
     "output_type": "stream",
     "text": [
      "[104, 101, 108, 108, 111, 33, 32, 227, 129, 147, 227, 130, 147, 227, 129, 171, 227, 129, 161, 227, 129, 175]\n"
     ]
    }
   ],
   "source": [
    "print(list(utf_8_encoded))"
   ]
  },
  {
   "cell_type": "markdown",
   "metadata": {},
   "source": [
    "We go from a sequence of codepoints, to a sequence of bytes, where a byte is a number between 0 and 255."
   ]
  },
  {
   "cell_type": "markdown",
   "metadata": {},
   "source": []
  },
  {
   "cell_type": "code",
   "execution_count": 35,
   "metadata": {},
   "outputs": [
    {
     "name": "stdout",
     "output_type": "stream",
     "text": [
      "b'\\xff\\xfeh\\x00e\\x00l\\x00l\\x00o\\x00!\\x00 \\x00S0\\x930k0a0o0'\n"
     ]
    }
   ],
   "source": [
    "utf_16_encoded = test_string.encode(\"utf-16\")\n",
    "print(utf_16_encoded)\n"
   ]
  },
  {
   "cell_type": "code",
   "execution_count": 36,
   "metadata": {},
   "outputs": [
    {
     "name": "stdout",
     "output_type": "stream",
     "text": [
      "[255, 254, 104, 0, 101, 0, 108, 0, 108, 0, 111, 0, 33, 0, 32, 0, 83, 48, 147, 48, 107, 48, 97, 48, 111, 48]\n"
     ]
    }
   ],
   "source": [
    "print(list(utf_16_encoded))\n"
   ]
  },
  {
   "cell_type": "code",
   "execution_count": 37,
   "metadata": {},
   "outputs": [
    {
     "name": "stdout",
     "output_type": "stream",
     "text": [
      "b'\\xff\\xfe\\x00\\x00h\\x00\\x00\\x00e\\x00\\x00\\x00l\\x00\\x00\\x00l\\x00\\x00\\x00o\\x00\\x00\\x00!\\x00\\x00\\x00 \\x00\\x00\\x00S0\\x00\\x00\\x930\\x00\\x00k0\\x00\\x00a0\\x00\\x00o0\\x00\\x00'\n"
     ]
    }
   ],
   "source": [
    "utf_32_encoded = test_string.encode(\"utf-32\")\n",
    "print(utf_32_encoded)\n"
   ]
  },
  {
   "cell_type": "code",
   "execution_count": 38,
   "metadata": {},
   "outputs": [
    {
     "name": "stdout",
     "output_type": "stream",
     "text": [
      "[255, 254, 0, 0, 104, 0, 0, 0, 101, 0, 0, 0, 108, 0, 0, 0, 108, 0, 0, 0, 111, 0, 0, 0, 33, 0, 0, 0, 32, 0, 0, 0, 83, 48, 0, 0, 147, 48, 0, 0, 107, 48, 0, 0, 97, 48, 0, 0, 111, 48, 0, 0]\n"
     ]
    }
   ],
   "source": [
    "print(list(utf_32_encoded))\n"
   ]
  },
  {
   "cell_type": "markdown",
   "metadata": {},
   "source": [
    "\n",
    "we pick utf-8 for brevity? maybe. seem like this increases the size of the vocabulary?"
   ]
  },
  {
   "cell_type": "code",
   "execution_count": 39,
   "metadata": {},
   "outputs": [],
   "source": [
    "def decode_utf8_bytes_to_str_wrong(bytestring: bytes):\n",
    "    return \"\".join([bytes([b]).decode(\"utf-8\") for b in bytestring])"
   ]
  },
  {
   "cell_type": "code",
   "execution_count": 41,
   "metadata": {},
   "outputs": [
    {
     "data": {
      "text/plain": [
       "'hey'"
      ]
     },
     "execution_count": 41,
     "metadata": {},
     "output_type": "execute_result"
    }
   ],
   "source": [
    "decode_utf8_bytes_to_str_wrong(\n",
    "    \"hey\".encode(\"utf-8\")\n",
    ")"
   ]
  },
  {
   "cell_type": "markdown",
   "metadata": {},
   "source": [
    "any unicode character that takes up more than one byte of storage."
   ]
  },
  {
   "cell_type": "code",
   "execution_count": 46,
   "metadata": {},
   "outputs": [
    {
     "data": {
      "text/plain": [
       "'he'"
      ]
     },
     "execution_count": 46,
     "metadata": {},
     "output_type": "execute_result"
    }
   ],
   "source": [
    "bytes([104, 101]).decode(\"utf-8\")"
   ]
  },
  {
   "cell_type": "code",
   "execution_count": 48,
   "metadata": {},
   "outputs": [],
   "source": [
    "bad_bytes = [255,255]"
   ]
  },
  {
   "cell_type": "markdown",
   "metadata": {},
   "source": [
    "byte-level tokenization slows down model training, A sentence with 10 words is 10 tokens long in a word-level language model, but it can be 50 or more tokens long in a character level model. A sub-token tokenizer trades off a larger vocabulary for shorter input streams. \n",
    "Byte-pair encoding iteratively merges the most frequently used pair of bytes with a single new unused index.\n",
    "\n",
    "The process of constructing the BPE tokenizer vocabulary is known as *training* "
   ]
  },
  {
   "cell_type": "markdown",
   "metadata": {},
   "source": [
    "For efficiency, we pre-tokenize our corpus. \n"
   ]
  },
  {
   "cell_type": "code",
   "execution_count": 49,
   "metadata": {},
   "outputs": [],
   "source": [
    "PAT = r\"\"\"'(?:[sdmt]|ll|ve|re)| ?\\p{L}+| ?\\p{N}+| ?[^\\s\\p{L}\\p{N}]+|\\s+(?!\\S)|\\s+\"\"\""
   ]
  },
  {
   "cell_type": "code",
   "execution_count": 51,
   "metadata": {},
   "outputs": [
    {
     "data": {
      "text/plain": [
       "['some', ' text', ' that', ' i', \"'ll\", ' pre', '-', 'tokenize']"
      ]
     },
     "execution_count": 51,
     "metadata": {},
     "output_type": "execute_result"
    }
   ],
   "source": [
    "re.findall(PAT, \"some text that i'll pre-tokenize\")"
   ]
  },
  {
   "cell_type": "code",
   "execution_count": 53,
   "metadata": {},
   "outputs": [],
   "source": [
    "def find_chunk_boundaries(file: BinaryIO, desired_num_chunks: int, split_special_token: bytes) -> list[int]:\n",
    "    \"\"\"\n",
    "    Chunk the file into parts that can be counted independently.\n",
    "    May return fewer chunks if the boundaries end up overlapping.\n",
    "    \"\"\"\n",
    "    assert isinstance(split_special_token, bytes), \"Must represent special token as a bytestring\"\n",
    "\n",
    "    # Get total file size in bytes\n",
    "    file.seek(0, os.SEEK_END)\n",
    "    file_size = file.tell()\n",
    "    file.seek(0)\n",
    "\n",
    "    chunk_size = file_size // desired_num_chunks\n",
    "\n",
    "    # Initial guesses for chunk boundary locations, uniformly spaced\n",
    "    # Chunks start on previous index, don't include last index\n",
    "    chunk_boundaries = [i * chunk_size for i in range(desired_num_chunks + 1)]\n",
    "    chunk_boundaries[-1] = file_size\n",
    "\n",
    "    mini_chunk_size = 4096  # Read ahead by 4k bytes at a time\n",
    "\n",
    "    for bi in range(1, len(chunk_boundaries) - 1):\n",
    "        initial_position = chunk_boundaries[bi]\n",
    "        file.seek(initial_position)  # Start at boundary guess\n",
    "        while True:\n",
    "            mini_chunk = file.read(mini_chunk_size)  # Read a mini chunk\n",
    "\n",
    "            # If EOF, this boundary should be at the end of the file\n",
    "            if mini_chunk == b\"\":\n",
    "                chunk_boundaries[bi] = file_size\n",
    "                break\n",
    "\n",
    "            # Find the special token in the mini chunk\n",
    "            found_at = mini_chunk.find(split_special_token)\n",
    "            if found_at != -1:\n",
    "                chunk_boundaries[bi] = initial_position + found_at\n",
    "                break\n",
    "            initial_position += mini_chunk_size\n",
    "\n",
    "    # Make sure all boundaries are unique, but might be fewer than desired_num_chunks\n",
    "    return sorted(set(chunk_boundaries))\n"
   ]
  },
  {
   "cell_type": "code",
   "execution_count": 91,
   "metadata": {},
   "outputs": [
    {
     "name": "stdout",
     "output_type": "stream",
     "text": [
      "boundaries [0, 4861876, 9724129, 14586631, 19447282]\n"
     ]
    }
   ],
   "source": [
    "with builtins.open(\"./cs336_basics/TinyStories-valid.txt\", \"rb\") as f:\n",
    "    boundaries = find_chunk_boundaries(f, 4, \"<|endoftext|>\".encode(\"utf-8\"))\n",
    "    print('boundaries', boundaries)\n",
    "    # The following is a serial implementation, but you can parallelize this\n",
    "    # by sending each start/end pair to a set of processes.\n",
    "    for start, end in zip(boundaries[:-1], boundaries[1:]):\n",
    "        f.seek(start)\n",
    "        chunk = f.read(end - start).decode(\"utf-8\", errors=\"ignore\")\n",
    "        sub_chunks = re.split(\"|\".join([re.escape(\"<|endoftext|>\")]),chunk)\n",
    "        # run tokenization for each of the sub_chunks.\n",
    "        iterators = [re.finditer(PAT, sub_chunk) for sub_chunk in sub_chunks]\n",
    "        all_matches = itertools.chain(*iterators)"
   ]
  },
  {
   "cell_type": "code",
   "execution_count": 92,
   "metadata": {},
   "outputs": [
    {
     "data": {
      "text/plain": [
       "<itertools.chain at 0x11cbaa7a0>"
      ]
     },
     "execution_count": 92,
     "metadata": {},
     "output_type": "execute_result"
    }
   ],
   "source": [
    "all_matches"
   ]
  },
  {
   "cell_type": "code",
   "execution_count": 83,
   "metadata": {},
   "outputs": [
    {
     "name": "stdout",
     "output_type": "stream",
     "text": [
      "<|endoftext|>\n",
      "\n",
      "Lily and Ben are pupils in the same class. They like to play together, but they do no\n",
      "['', '\\n\\nLily and Ben are pupils in the same class. They like to play together, but they do not like the same food. Lily likes spicy food, like curry and chili. Ben likes sweet food, like cake and candy.\\nOne day, their teacher brings a big pot of soup for lunch. She says it is a special soup, with many different flavors. She tells the pupils to try some and share with their friends.\\nLily takes a big spoon of soup and puts it in her mouth. She smiles and says, \"Yum, this soup is spicy and good. I like it a lot.\" She gives some soup to Ben and says, \"Here, try some. You will like it too.\"\\nBen takes a small sip of soup and makes a face. He says, \"Yuck, this soup is spicy and bad. I do not like it at all.\" He gives some soup to Lily and says, \"Here, take it back. You can have it all.\"\\nLily and Ben start to argue. They say, \"My food is better than your food. Your food is gross and icky. You have no taste. You are not my friend.\"\\nTheir teacher hears them and comes over. She says, \"Stop, stop, stop. Why are you fighting? You are both pupils in the same class. You are both friends. You do not have to like the same food. You can like different food and still be kind and share. That is what makes the soup special. It has many different flavors, like you have many different likes. Can you unite and try to understand each other?\"\\nLily and Ben look at each other. They feel sorry for being mean. They say, \"Sorry, sorry, sorry. You are right, teacher. We do not have to like the same food. We can like different food and still be friends. We can unite and try to understand each other.\"\\nThey hug and make up. They decide to try some other food from the pot. They find some food that they both like, like noodles and cheese. They say, \"This food is yummy and good. We both like it a lot.\"\\nThey smile and eat together. They are happy and united. The end.\\n', \"\\nOnce upon a time, there was a little boy named Timmy. Timmy loved to drink juice. Every day, his mom would give him a glass of juice with his breakfast. Timmy admired how the juice looked in the glass, with its bright colors and sweet smell.\\nOne day, Timmy went to his friend's house to play. His friend had a toy car that Timmy had never seen before. It was blue and shiny, but Timmy noticed it was not like any other toy car he had seen. It was an original toy car, made by his friend's dad. Timmy admired how unique and special the toy car was.\\nAfter playing with the toy car, Timmy's friend's mom gave them both a glass of juice. Timmy enjoyed the juice so much that he asked his friend's mom for the recipe. She told him it was a secret family recipe, and Timmy admired how delicious and special the juice tasted. From that day on, Timmy loved to drink his friend's mom's original juice whenever he went to play.\\n\", \"\\nOnce upon a time, there was a little car named Red. Red loved to travel and see new places. One day, Red's battery ran out of power, and he couldn't move anymore. Red was sad because he wanted to keep traveling. \\nBut then, a kind person came and gave Red a new battery. Red was so happy and grateful! He could travel again! \\nHowever, Red became impatient because he wanted to travel to new places quickly. He tried to go faster and faster, but he realized that it was important to be patient and enjoy the journey. So, Red slowed down and enjoyed the beautiful scenery around him.\\n\", '\\nOne day, a little girl named Lily went to the park with her mommy. She saw a puppy playing by itself. Lily went over to the puppy and said, \"Hi there! Do you want to play with me?\"\\nThe puppy wagged its tail and barked happily. Lily played with the puppy for a while, but then it started to rain. Lily said, \"Oh no! We have to find a case for the puppy so it doesn\\'t get wet.\"\\nLily and her mommy looked around and found a big box. They put the puppy inside and carried it home. Lily said, \"I care about the puppy. I don\\'t want it to be wet and cold.\" Her mommy said, \"That\\'s very kind of you, Lily. You have a kind heart even though the weather can be harsh sometimes.\"\\n', '\\nOnce upon a time, there was a little bird named Tweet. Tweet loved to fly and soar high in the sky. One day, as Tweet was flying, she found a twig on the ground. The twig was small and brown, but Tweet thought it was perfect to add to her nest.\\nAs she was carrying the twig, Tweet saw her friend Bunny hopping by. \"Hi Bunny!\" said Tweet. \"Look at the twig I found. It\\'s perfect for my nest!\"\\nBunny looked at the twig and said, \"That\\'s a nice twig, Tweet. But be careful, it\\'s warm outside and you don\\'t want to get too tired from carrying it.\"\\nTweet nodded and thanked Bunny for the advice. She flew back to her nest and added the twig to it. As she rested, she thought about how much fun it was to soar through the sky and find new things to add to her nest.\\n', '\\nOnce upon a time, there was a dolphin named Dolly. Dolly was a kind and compassionate dolphin who loved to play in the ocean. One day, Dolly met a big, scary shark. The shark was mean and wanted to eat Dolly.\\nDolly tried to swim away, but the shark was too fast. Dolly knew she had to hide, so she found a cozy cave to sleep in. She thought she was safe, but the shark found her. Dolly tried to swim away again, but the shark was too close.\\nIn the end, the shark caught Dolly and ate her. Poor Dolly never knew that the big, scary shark was going to be her end.\\n', \"\\nOnce upon a time, there was a big man named Jack. Jack was very rich and had a big house with a big garden. One day, Jack found a magic bow in his garden. When he used it, he started to shrink smaller and smaller until he was as small as a bug! Jack was scared, but he knew he had to find a way to get back to his normal size. \\nHe saw a butterfly with big wings and asked for help. The butterfly carried Jack on its back and flew him to a wise old owl. The owl told Jack that he needed to eat a special berry to grow back to his normal size. Jack found the berry and ate it. Suddenly, he grew bigger and bigger until he was back to his normal size. \\nAfter that, Jack realized that he didn't need to be rich to be happy. He was just happy to be back to his normal size and to have his big house and garden. Jack decided to share his wealth with others and help people in need. From that day on, Jack lived a happy life and never used the magic bow again. The end.\\n\", '\\nOnce upon a time, there was a boy named Timmy. Timmy liked to play with his ball in the park. One day, he saw a big boy who wanted to take his ball. Timmy said, \"No, it\\'s mine!\" and the big boy said, \"I want it!\" They started to fight and kick each other.\\nSuddenly, an old man came and said, \"What\\'s going on here?\" Timmy said, \"He wants my ball!\" The old man said, \"Let\\'s share it. You can play together.\" The big boy said, \"Okay, that\\'s original.\" They played together and had fun.\\nBut then, the big boy kicked the ball too hard and it went into the street. A car hit the ball and the ball broke. Timmy started to cry and the big boy said, \"Sorry.\" The old man said, \"It\\'s okay, accidents happen.\" Timmy went home sad because his ball was gone.\\n', \"\\nOnce upon a time, there was a little girl named Lily. She loved to swing on the playground. She would go back and forth, higher and higher, giggling with joy. One day, she brought her favorite bag to the playground. It was a pink bag with a unicorn on it. She put her snack and water bottle in the bag and hung it on the swing next to her. Suddenly, a crazy wind blew and the bag flew away! Lily was sad and didn't know what to do. But then, her friend came and helped her find the bag. They were both happy and went back to swinging together.\\n\", '\\nOnce upon a time, there was a little girl named Lily. One day, she was eating her dinner and her mom put some cauliflower on her plate. Lily didn\\'t like cauliflower, so she made a serious face and said, \"Mom, I don\\'t like this.\"\\nHer mom replied, \"Lily, you need to mind your manners and try new foods. Cauliflower is good for you.\"\\nLily thought about it for a moment and decided to take a small bite. To her surprise, she actually liked it! She said, \"Mom, this cauliflower is yummy! Can I have more please?\"\\nHer mom smiled and gave her more cauliflower. From that day on, Lily always tried new foods and didn\\'t mind eating cauliflower anymore.\\n', \"\\nOnce upon a time, there was a big, happy family. They lived in a house with a big yard where they played every day. One day, they decided to go to the park. The park was very high because it had a big slide and a tall swing.\\nAt the park, they saw a barber who was cutting hair for the children. The barber was very nice and gave them lollipops. Suddenly, they heard a loud noise. It was a boy who was playing with a toy gun and pretended to shoot his friends. The family didn't like it because it was not nice to shoot friends.\\nAfter playing at the park, they went back home and had a nice dinner. They talked about the fun they had and how they liked the barber. They also talked about how they didn't like the boy who pretended to shoot. They decided to teach him to play nicely next time they saw him.\\n\", '\\nOnce upon a time, there was a woodcutter who had a very noisy axe. Every day, he would go to the forest to cut trees. But the noise of his axe would disturb the animals living in the forest. They would run away and hide.\\nOne day, a little rabbit came to the woodcutter and said, \"Please, Mr. Woodcutter, can you please use a quieter axe? Your noisy axe scares us and makes us run away.\"\\nThe woodcutter felt bad and realized that he was causing trouble for the animals. So, he promised the rabbit that he would use a quieter axe from now on. The rabbit was very happy and thanked the woodcutter.\\nThe woodcutter learned that being considerate of others is important. He bowed to the rabbit and promised to be more mindful of his actions in the future. From that day on, he used a quieter axe and the animals in the forest lived in peace.\\n', \"\\nOnce upon a time, there was a boy named Timmy. Timmy loved to surf in the great big ocean waves. He would ride the waves and feel the wind in his hair. \\nOne day, Timmy saw a big boat in the distance. He wanted to see it up close, so he leaned over the edge of his surfboard. But then, a giant wave came and knocked him off his board. \\nTimmy tried to swim back to his board, but the waves were too strong. He got tired and couldn't swim anymore. Sadly, Timmy never made it back to his surfboard and was lost in the ocean forever.\\n\", '\\nOnce upon a time, there was a little bear named Teddy. Teddy lived in a cabin in the woods with his family. One day, Teddy\\'s dad came home and said, \"Oh no! The printer is broken! We can\\'t print our pictures anymore!\"\\nTeddy asked, \"What\\'s broken mean?\"\\n\"It means it doesn\\'t work anymore,\" his dad explained.\\nTeddy thought for a moment and said, \"I can help! I\\'ll go to the store and get a new printer.\" So, Teddy went to the store and bought a new printer. When he got back to the cabin, his family was so happy.\\n\"Thank you, Teddy!\" they all said.\\nNow, they could print their pictures again and Teddy felt proud that he could help his family.\\n', '\\nOnce upon a time, there was a little girl named Lily. She loved to play outside in the springtime. One day, she found a wallet on the ground. She picked it up and looked inside. There was a lot of money in it!\\nLily was excited at first, but then she felt frustrated. She didn\\'t know what to do with the wallet. She decided to ask her mom for help.\\n\"Mommy, I found a wallet outside. What should I do with it?\" Lily asked.\\nHer mom replied, \"You should bring it to the police station. They can help find the owner.\"\\nLily was happy to have found a solution. She ran to the police station with the wallet and gave it to a police officer. The officer thanked her and said that she did the right thing.\\nLily felt proud of herself for doing the right thing and helping someone else. She continued to play outside in the beautiful spring weather.\\n', \"\\nOnce upon a time, a little birdie named Tweety was looking for a cozy nest to call home. She searched high and low, but all the nests she found were already taken. One day, she saw a big tree with a big nest on top. She was eager to see if it was empty.\\nAs she flew up to the nest, she saw a big, mean birdie named Big Bird. Big Bird didn't like Tweety and wanted her to leave. Tweety didn't want to leave because she was tired and needed a place to rest. Big Bird appeared to be very angry and Tweety knew she had to be careful.\\nTweety thought for a moment and then had an idea. She asked Big Bird if they could share the nest. At first, Big Bird was hesitant, but then she realized that it was a good idea. They both settled into the nest and became friends. From that day on, they shared the nest and lived happily ever after. The end.\\n\", \"\\nOnce upon a time, there was a little girl named Lily who loved kittens. She wanted a kitten of her own, but her mom said she had to wait until she was older. One day, Lily's mom said they were going to visit her grandma's house. Lily was excited because she loved her grandma's house. \\nOn the way to grandma's house, Lily saw a little kitten on the side of the road. The kitten was all alone and looked scared. Lily asked her mom if they could take the kitten home, but her mom said they couldn't because they weren't ready for a pet yet.\\nFinally, they arrived at grandma's house. Lily was happy to see her grandma, but she was still sad about the kitten. Suddenly, her grandma said she had a surprise for her. She brought out a little kitten from behind her back! Lily was so happy and hugged the kitten tight. She was so happy that she forgot about the kitten on the side of the road.\\n\", '\\nOnce upon a time, there was a little girl named Lily. She loved to play with her toys and cuddle with her cushion. One day, Lily\\'s mom brought her a new cushion that she had designed herself. \\nLily was so happy and she hugged her new cushion tightly. \"Mommy, this cushion is so pretty! Did you design it?\" she asked. \\n\"Yes, I did! I\\'m glad you like it,\" her mom replied with a smile. \\nLater that day, Lily and her mom went outside to play in the snow. The ground was icy and slippery, but they had fun making snowmen and having snowball fights. When they got back inside, Lily snuggled up with her new cushion and said, \"I\\'m so glad we have a warm and cozy home to come back to after playing in the icy snow.\" \\nHer mom smiled and said, \"Me too, Lily. And I\\'m glad you love your new cushion.\"\\n', \"\\nOnce upon a time, there was a little girl named Lily. One day, Lily went for a walk in the park with her mom. While they were walking, Lily found a shiny rock on the ground. She was so happy to find it!\\nAs they continued walking, Lily's mom told her it was almost noon and time for lunch. Lily was hungry and excited to eat. But then, they heard a loud noise and Lily got frightened. Her mom hugged her and told her it was just a bird flying away.\\nAfter they finished lunch, Lily and her mom went home. Lily showed her dad the shiny rock she found and he was proud of her. Even though she got frightened, Lily had a fun day in the park and found a special treasure.\\n\", '\\nOnce upon a time, there was a little girl named Lily. She loved to play outside, but it started to rain. Lily didn\\'t have an umbrella, so she got very wet. She saw her friend Timmy with an umbrella and asked him if she could use it. Timmy said yes and Lily was very happy.\\nAfter a while, the rain stopped and Lily gave the umbrella back to Timmy. He said, \"Thank you for returning my umbrella, Lily. You are a good friend.\" Lily felt happy that she could help Timmy and be a good friend.\\nLater that day, Lily\\'s mom made her favorite snack, a peanut butter and jelly sandwich. Lily was so hungry that she ate it all in one bite. Her mom said, \"Lily, next time you should take smaller bites so you don\\'t get a tummy ache.\" Lily listened to her mom and promised to take smaller bites.\\nThe moral of the story is that it\\'s important to share with friends and to listen to your parents when they give you advice. And if you get too wet in the rain, you can always reverse the situation by borrowing an umbrella.\\n', \"\\nOnce upon a time, there was a dog named Max. Max was a big dog with a healthy coat of fur. He loved to play fetch with his owner and go for walks. One day, Max's owner took him to the park to watch the ducks swim in the pond. Max wagged his tail and barked with excitement. He loved to watch the ducks! When it was time to go home, Max's owner called his name and Max happily followed.\\n\", \"\\nOnce upon a time, there was a little boy named Timmy. He loved to explore and go on adventures. One day, he went on a hike with his mom and dad. They came across a big cave. Timmy was so excited to discover what was inside. \\nAs they walked through the cave, they heard a loud growling noise. Timmy's heart started to beat really fast. They soon discovered that there was a big, tough bear inside the cave! Timmy's mom and dad knew they had to keep him safe, so they quickly turned around and left the cave. \\nTimmy was disappointed that they couldn't explore the whole cave, but he was happy that they were all safe. He knew that there would be more adventures to discover in the future.\\n\", '\\nOne day, a little girl named Lily went to the park with her mommy. They saw a man with a big mustache. Lily asked, \"Mommy, why does that man have a big mustache?\" Mommy said, \"Some people like to grow big mustaches because it makes them look cool.\" Lily thought the man\\'s mustache looked delicate.\\nThen, Lily saw her friend Tommy playing on the monkey bars. She said, \"Mommy, I want to play too!\" Mommy said, \"Let\\'s see if you can fit on the monkey bars.\" Lily tried to climb up, but she was too small. She said, \"I can\\'t fit, mommy.\" \\nTommy came over and said, \"Don\\'t worry, Lily. I\\'ll help you.\" Tommy lifted Lily up so she could reach the monkey bars. Lily was so happy and said, \"Thank you, Tommy! You\\'re my best friend!\" They played together all afternoon and Lily forgot all about the man\\'s mustache.\\n', \"\\nOnce upon a time, there was a little girl named Lily. She loved to play with her dolls and teddy bears. One day, Lily's mommy gave her a special doll named Angel. Lily loved Angel very much because she was so pretty and delicate.\\nLily wanted to play with Angel all the time, but her mommy told her that Angel was fragile and she needed to be careful with her. Lily promised to be gentle and take good care of Angel.\\nOne night, Lily went to bed and left Angel on the shelf. While she was asleep, a gust of wind blew through the window and knocked Angel off the shelf. Angel fell to the ground and broke into many pieces.\\nLily woke up in the morning and saw Angel on the floor. She was very sad and started to cry. Her mommy came in and saw what had happened. She hugged Lily and told her it was okay. She explained that accidents happen and that she still loves Lily very much. From that day on, Lily learned to trust her mommy's advice and to be careful with her fragile toys.\\n\", \"\\nOnce upon a time, there was a little boy named Timmy. Timmy loved to play outside in the sun, but he didn't like to wear his hat. One day, Timmy went outside to play and it was very hot. He didn't wear his hat, and his head started to feel hot too.\\nTimmy's mom saw him playing outside without his hat and told him that he would suffer if he didn't wear it. Timmy didn't listen and kept playing. Later that day, Timmy got a headache and felt sick. He had to go inside and rest.\\nTimmy learned that it's important to wear his hat when it's hot outside, so he won't suffer like he did. From that day on, Timmy always wore his hat when he played outside in the sun.\\n\", '\\nOnce upon a time, there was a little girl named Lily who loved to eat candy. One day, she found a big bag of colorful candies and she ate them all at once. Suddenly, she felt sick and her tummy hurt a lot. \\nLily\\'s mom noticed that she was not feeling well and asked her what happened. Lily said, \"I ate too much candy and now my tummy hurts.\" Her mom said, \"Oh no, this is an emergency! We need to go to the doctor.\" \\nAt the doctor\\'s office, Lily told the doctor that her tummy hurt and she felt like she couldn\\'t hear very well. The doctor said, \"Don\\'t worry, you\\'re not deaf. You just have a tummy ache from eating too much candy.\" The doctor gave Lily some medicine to help her feel better. \\nLily learned her lesson and promised to never eat too much candy again. She thanked her mom and the doctor for helping her and said, \"I don\\'t want to taste too much candy and get sick again.\"\\n', '\\nOnce upon a time, a little girl named Lily went to a fair. She saw a big, red balloon and wanted it. But she didn\\'t have any money. Suddenly, a kind man came and gave her a prize. Lily was so happy that she kissed the man on the cheek.\\n\"Thank you for being so helpful!\" Lily said.\\n\"You\\'re welcome,\" the man replied with a smile.\\nLily held her prize tightly and skipped away, feeling grateful for the man\\'s kindness. From that day on, she always remembered to be helpful to others, just like the man who gave her the prize.\\n', \"\\nOnce upon a time, there was an old man who lived alone in a small house. He loved to collect gems and keep them safe in a box. One day, he decided to mail a letter to his friend who lived far away.\\nAs he walked to the mailbox, he felt something strange. He looked around and saw a shiny gem on the ground. He picked it up and put it in his pocket. He thought it was his lucky day.\\nHe mailed the letter and went back home. As he opened his gem box, he noticed that one of his gems was missing. He searched everywhere but couldn't find it. Suddenly, he remembered the shiny gem he found on the ground. He realized that it was not his lucky day after all.\\n\", \"\\nOnce upon a time, there was a little girl named Lily. Lily loved to draw and color. One day, Lily was coloring with her black crayon when she accidentally got some on her hands. \\nLily tried to wash her hands, but the black color wouldn't come off. So, she asked her mom for some glue. Her mom gave her some glue and told her to put it on her hands. \\nLily put the glue on her hands and waited for it to dry. When the glue was dry, she peeled it off and the black color came off with it. Lily was so happy that the glue helped her separate the black color from her hands. From that day on, she always had glue in case she needed to separate any colors from her hands.\\n\", \"\\nOnce upon a time, there was a little girl named Lily. She loved to play with her toys and jump on the furniture. One day, her mom bought a new sofa that was very big and comfy. Lily wanted to jump on it, but her mom said no. She told Lily that the sofa was new and she didn't want it to break. \\nLily promised to protect the sofa and not jump on it. She sat on the sofa and it was a perfect fit for her. She loved how soft it was and how it made her feel cozy. From that day on, Lily made sure to protect the furniture in her house and not jump on it. She wanted it to last a long time so she could sit and play on it for many years to come.\\n\", \"\\nOnce upon a time, there was a little boy named Timmy. Timmy was very excited for his exam at school. He had studied very hard and wanted to show his teacher how much he knew. \\nOn the day of the exam, Timmy's friend Billy started teasing him. Billy said that Timmy was not smart enough to pass the exam. This made Timmy very sad and he started to cry. \\nBut then, Timmy's teacher saw what was happening and she told Billy to stop being rude and to be polite to Timmy. She said that everyone can do well if they try their best. \\nTimmy felt better and he went to take his exam. He remembered everything he had studied and he did very well. When he got his exam back, he got an A+! He was so happy and proud to show his mom and dad. And he learned that being polite and trying your best is always the best way to succeed. The end.\\n\", \"\\nOnce upon a time, there was a boy named Timmy. Timmy loved to watch movies. One day, he went to the store and saw a movie he wanted. He grabbed it and went home.\\nWhen Timmy got home, he started to watch the movie. But it was a sad movie and it made him feel sad too. Timmy didn't like feeling sad, so he turned off the movie and went to bed.\\nThe next day, Timmy wanted to watch the movie again. But when he looked for it, he couldn't find it. He looked and looked, but it was gone. Timmy was sad again. He never found his favorite movie and he never felt happy again. The end.\\n\", '\\nOnce upon a time, a little girl named Lily was playing with her toys. Suddenly, her mommy came in and said, \"Lily, it\\'s time to pick up your toys and clean your room.\"\\nLily replied, \"Okay mommy, I will pick up my toys.\" She started to put her toys in the toy box. Then, she saw her tablet on the floor. She said, \"Oh no! I forgot to put my tablet on the shelf.\" \\nHer mommy said, \"That\\'s okay, Lily. You can pick it up and put it on the shelf.\" Lily picked up her tablet and opened the screen. She saw that her favorite game was still open. She smiled and said, \"Yay! My game is still here.\" Then, she put her tablet on the shelf and finished cleaning her room.\\n', '\\nOnce upon a time, there was a big jungle. In the jungle, there lived a lion. The lion was very strong and brave. He would roar loudly and scare all the other animals. But the lion had a problem. He was very clumsy. He would often trip and fall while running.\\nOne day, the lion saw a group of animals gathered around a tree. They were all looking up at something. The lion was curious and went to see what was happening. He saw a bird sitting on a branch of the tree. The bird was chirping loudly.\\nThe lion asked the other animals, \"What is the bird saying?\" But nobody knew the answer. The lion then decided to climb the tree to ask the bird himself. But because he was so clumsy, he fell down and scared the bird away. The other animals laughed at the lion and he felt embarrassed. From that day on, the lion realized that he needed to be careful and not be so clumsy.\\n', \"\\nOnce upon a time, there was a little girl named Lily. She loved ice cream and always asked her mom to take her to the ice cream truck. One day, Lily's mom took her to get a cone, but it was very icy outside. \\nLily was so excited to eat her cone, but she accidentally dropped it on the ground. She was very sad and didn't know what to do. \\nSuddenly, Lily's mom had an idea. She told Lily to use her hands to make a snowball and put the icy snow on top of the dropped cone. Lily was hesitant at first, but she tried it and it worked! The icy snow made the cone even better than before. \\nFrom that day on, Lily always remembered to use the icy snow to make her cone even more delicious. She was happy that her mom taught her a new trick.\\n\", '\\nOnce upon a time, there was a kind princess who lived in a big castle. She loved to play with her toys and her favorite one was a little scale. She used it to weigh all her toys and see which one was the heaviest.\\nOne day, the princess decided to make some yummy cookies. She cut some butter and sugar with a knife and put them in a big bowl. Then she added some flour and mixed it all together. She used her scale to make sure she had the right amount of ingredients.\\nAfter baking the cookies, the princess shared them with her friends. They all said they were the most delicious cookies they had ever tasted! The princess was very happy that she could share her yummy treats with her friends.\\n', \"\\nOnce upon a time, an old fisherman went to the river to catch some fish. He cast his net and waited patiently. Suddenly, he felt a tug on his line and he pulled it up. He was excited to receive a big fish, but it was too heavy for him to lift.\\nThe fisherman struggled and pulled with all his might, but the fish was too strong. He knew he needed help, so he called out to his friends. They came running and together they were able to pull the fish out of the water.\\nBut then a problem arose. The fish was so big that they couldn't decide who should get to keep it. They argued and fought, but the old fisherman reminded them that they should share the fish and be happy together. In the end, they all went home with a piece of the big fish and they were all happy.\\n\", '\\nOnce upon a time, a little crab named Sammy lived by the sea. Sammy loved to play in the sand and collect shells. One day, Sammy found a thin shell that was perfect for his collection. He was so happy that he settled down on the sand to admire it.\\nAs Sammy sat there, he noticed that the sun was starting to set. The sky turned orange and pink, and the waves became calm. Sammy felt peaceful as he watched the sun go down. He knew it was time to go back to his home in the rocks.\\nSammy scurried back to his home and settled into his cozy little shell. He felt safe and warm inside his shell, and he knew he would have sweet dreams that night. The end.\\n', '\\nOnce upon a time, there was a little girl named Lily. She lived in a house with her mommy and daddy. One day, Lily\\'s mommy asked her if she wanted to go on an adventure. \\n\"Where are we going?\" Lily asked.\\n\"We\\'re going to the park in the east,\" her mommy replied.\\nLily was excited to go on an adventure with her mommy. When they got to the park, they saw a man with a sharp knife cutting some fruits. \\n\"Look, Lily! Those fruits look so tasty!\" her mommy said.\\n\"I want to try some!\" Lily exclaimed.\\nThe man with the sharp knife smiled and gave them some fruits to taste. They were very tasty, and Lily was happy that she went on an adventure with her mommy.\\n', \"\\nOnce upon a time, there was a little girl named Lily. She loved to play outside in the rain. One day, she slipped and fell down. Her knee was hurt and it was bleeding. Her mom quickly got a bandage and put it on her knee. \\nLily felt much better with the bandage on her knee. She admired her mom for always taking care of her. After a few days, the bandage came off and Lily's knee was all better. She went outside to play again, but this time she was careful not to slip and fall. She didn't want to get wet or hurt again.\\n\", \"\\nOnce upon a time, there was a cute little bunny named Fluffy. Fluffy had a very unique style of hopping, which made him stand out from other bunnies. One day, Fluffy met a friendly squirrel named Sammy. Sammy was so adorable that Fluffy wanted to be friends with him.\\nFluffy and Sammy played together all day long, but as the sun started to set, Fluffy realized he was lost. He didn't know how to get back home. Fluffy started to shout for help, but no one came to his rescue.\\nSuddenly, Sammy remembered that he had seen Fluffy's home earlier that day. He showed Fluffy the way, and Fluffy was so happy that he hopped in his unique style all the way home. From that day on, Fluffy and Sammy were the best of friends and played together every day.\\n\", '\\nOnce upon a time, there was a little girl named Lily. She loved to dance and move her body in motion. One day, she went to a party with her mommy and daddy. They had lots of yummy food, but Lily didn\\'t like the spicy chips.\\nLily saw a clown at the party and she wanted to clap for him. She ran over to the clown and clapped her hands. The clown showed her a magic trick and Lily was so happy. She said, \"Thank you, Mr. Clown!\"\\nSuddenly, the lights went out and everyone started to scream. Lily was scared and she held onto her mommy\\'s hand. They tried to leave the party, but there was a big fire. Lily\\'s family didn\\'t make it out of the building. Lily was very sad and missed her mommy and daddy. She wished she could clap for them one more time.\\n', '\\nOnce upon a time, there was a little girl named Lily. She loved to play her flute every day. One morning, she woke up early and went outside to play her incredible flute. \\nAs she was playing, a bird flew down and landed on her shoulder. \"Wow, your flute sounds amazing!\" the bird chirped. \\nLily was surprised and happy. \"Thank you!\" she replied. \"Do you want to sing with me?\" \\nThe bird nodded and they played together. It was a beautiful sound. After they finished, the bird said goodbye and flew away. Lily smiled and continued to play her incredible flute.\\n', '\\nOnce upon a time, there was a little girl named Lily. She wanted a cookie, so she asked her mommy if she could have one. She said, \"Mommy, can I please have a cookie? I request it.\" \\nHer mommy said, \"Sure, Lily. But you have to wait a little bit because they are still baking in the oven.\" \\nLily waited patiently and smelled the lovely aroma of the cookies baking. Finally, her mommy took the cookies out of the oven and gave one to Lily. It was warm and delicious. Lily smiled and said, \"Thank you, mommy. This cookie is lovely.\"\\n', \"\\nOnce upon a time, there was a dog named Max. Max lived with his owner, a kind man who loved him very much. Max loved his owner too and always wanted to make him happy. Max loved to play fetch with his owner and go for long walks in the park.\\nOne day, Max saw a group of dogs playing together in the park. Max wanted to join in, but he was too shy. He was afraid that he would embarrass himself in front of the other dogs. Max's owner noticed how sad he was and encouraged him to go play with the other dogs.\\nMax was nervous, but he went over to the other dogs and started playing with them. At first, he felt a little awkward, but soon he was having so much fun that he forgot all about feeling embarrassed. Max's owner was so proud of him for being brave and making new friends.\\nFrom that day on, Max was a successful member of the dog community in the park. He learned that sometimes it's scary to try new things, but if you're brave, you can be successful and make new friends. The end.\\n\", \"\\nOnce upon a time, there was a little girl named Lily. She loved to go to school because she had lots of friends there. One day, Lily's teacher told a funny joke and everyone laughed. Lily laughed so hard that she fell off her chair!\\nAfter school, Lily went to the park with her friends. They played on the swings and had a picnic. When it started to get dark, Lily's mom came to pick her up. She turned on the light in the car so they could see where they were going.\\nWhen they got home, Lily told her family about the funny joke her teacher had told at school. They all laughed and her little brother even tried to tell his own joke, but it wasn't as funny as the one from school. Lily went to bed happy, thinking about all the fun she had that day.\\n\", '\\nOnce upon a time, there was a mommy bird. She had a very noisy baby bird in her nest. The mommy bird wanted to go and find some food for her baby. She said to her baby bird, \"I am going to carry you in my beak and fly to find some food.\"\\nThe baby bird said, \"Okay mommy, I trust you.\" So, the mommy bird carefully picked up her infant in her beak and flew away. They flew over the trees and the flowers. The baby bird was so happy to be carried by his mommy.\\nSuddenly, they saw a big, juicy worm on the ground. The mommy bird swooped down and grabbed it with her beak. She carried it back to the nest and fed it to her baby. The baby bird was very happy and said, \"Thank you mommy for carrying me and finding me some yummy food.\" The end.\\n', \"\\nOnce upon a time, there was a little girl named Lily. One day, she went to the park with her mommy and daddy. She saw a man with a big snake and it scared her. But then, the man spoke to her and told her that the snake was nice. Lily felt better and even petted the snake.\\nLater, Lily and her family went to a restaurant for dinner. The restaurant was very boring because there was no music or fun things to do. But then, Lily's daddy gave her a strip of paper and some crayons. Lily drew a picture and felt happy.\\nAfter dinner, Lily went to bed. She dreamed about the nice man with the snake and the fun strip of paper. She felt so lucky to have such a great day.\\n\", '\\nOnce upon a time, there was a little girl named Lily. She loved to pick flowers in the garden. One day, she found a beautiful red rose and she felt very happy. She picked the rose and smelled it. It smelled so good! \\nLater that day, Lily\\'s mom made her favorite sandwich for lunch. Lily felt grateful and said \"thank you\" to her mom. She ate her sandwich and felt very full. \\nAt bedtime, Lily snuggled up in her cozy bed and felt very sleepy. She closed her eyes and thought about the fun day she had. She felt happy and grateful for all the good things in her life.\\n', \"\\nOnce upon a time, there was a little bunny named Benny. Benny loved to eat healthy food like carrots and broccoli. One day, Benny found a big squash in the garden. He wanted to eat it, but it was too big for him to eat alone. So, he asked his friends to help him sort it out.\\nBenny's friends helped him cut the squash into small pieces. They all sat down to eat the squash together. But, Benny had eaten too much squash and he started to feel sick. His friends tried to help him feel better, but it was too late. Benny had eaten too much and he got very sick.\\nIn the end, Benny learned that even though squash is healthy, he needed to eat it in moderation. Benny's friends were sad that he got sick, but they knew that Benny would be okay. They promised to always help him sort his food and eat it in a healthy way.\\n\", '\\nOnce upon a time, there was a little girl named Lily. She loved to bake cookies with her mom. One day, they ran out of sugar. \\nLily asked her mom, \"Mommy, do we have any sugar available?\" \\nHer mom replied, \"No, we don\\'t have any sugar left. We need to go to the store to buy some more.\" \\nLily and her mom went to the store to buy sugar. When they got home, Lily helped her mom separate the sugar into smaller bags so they could use it for baking. \\nLily said, \"Mommy, I love baking with you. It\\'s so much fun!\" \\nHer mom smiled and said, \"I love baking with you too, Lily. It\\'s always a fun time when we\\'re together.\"\\n', \"\\nOnce upon a time, there was a big elephant named Ellie. Ellie loved to eat lots of yummy fruits and vegetables. She was very heavy and weighed a lot!\\nOne day, Ellie wanted to take a nap in the shade of a big tree. She found a nice spot and closed her eyes. It was so peaceful and cool in the shade.\\nEllie had a dream that she was successful in finding the biggest banana she had ever seen! When she woke up, she decided to go on a search for the banana. She walked and walked, but couldn't find it. Even though she wasn't successful in finding the banana, she was happy to have had a nice nap in the shade.\\n\", \"\\nOnce upon a time, there was a little boy named Timmy. Timmy loved to play in the mud and get very dirty. His mom would always tell him to wash his hands and face, but Timmy didn't like to. \\nOne day, Timmy got very sick because he didn't wash his hands and face. His mom took him to the doctor, who said he had caught a bad germ. The germ made Timmy's whole body feel very bad. \\nThe doctor told Timmy's mom that the germ was spreading to other people in the nation. Timmy felt very sad and sorry for not washing his hands and face. He promised to always wash from then on. \\nSadly, the germ spread all over the nation and many people got very sick. Timmy learned that it is important to wash to keep yourself and others healthy.\\n\", \"\\nOnce upon a time, there was a little girl named Lily. She had a friend named Timmy. One day, they went to the park to play. Timmy wanted to climb on the monkey bars, but Lily warned him that it was too high for him. Timmy didn't listen and tried to climb anyway. He got stuck and was very confused. \\nLily went to get help from their parents. They came and helped Timmy down. He was okay, but he realized that Lily was right and he shouldn't have tried to climb so high. \\nAfter that, they played on the swings and had a lot of fun. Timmy thanked Lily for being a good friend and for warning him about the monkey bars. They both went home happy and tired from playing.\\n\", \"\\nOnce upon a time, there was a big garden with many pretty flowers. A naughty rabbit lived in the garden and loved to eat the flowers. One day, the rabbit saw a shiny bulb and wanted it for himself. He stole it from the ground and ran away.\\nThe flowers in the garden were very sad because they loved the bulb too. They didn't understand why the rabbit would take it away. A wise old owl saw what happened and explained to the flowers that the rabbit was ignorant and didn't know that stealing was wrong.\\nThe flowers forgave the rabbit, but they also taught him a lesson. They told him that it's not nice to take things that don't belong to you. The rabbit felt sorry and promised to never steal again. From that day on, the rabbit and the flowers became good friends and played together in the garden.\\n\", \"\\nOnce upon a time, there was a little girl named Lily. She loved to carry her teddy bear everywhere she went. One day, Lily's mommy gave her a telephone to play with. Lily was so happy and talked to her teddy bear on the phone for hours. \\nBut one day, Lily's friend came over and asked to play with the telephone. Lily didn't want to share because she was being selfish. Her friend felt sad and left to go play somewhere else. \\nLily realized she was wrong and felt bad. She decided to share her telephone with her friend and they had so much fun talking on the phone together. From that day on, Lily learned to be less selfish and always share with her friends.\\n\", \"\\nOnce upon a time, there was a little girl named Lily. She loved to play with her toys and go on adventures. One day, she went on a walk with her mommy and daddy. They walked and walked until they reached a big park.\\nLily saw a boy playing with a ball and wanted to play too. She asked the boy if she could play with him, but he was being bossy and said no. Lily's heart felt sad, but then she saw a swing and ran to it. She swung back and forth, feeling happy again.\\nSuddenly, the boy came over and asked if he could swing too. Lily said yes and they swung together, laughing and having fun. Lily's heart felt full of joy and she was happy she didn't give up when the boy was being bossy. From then on, Lily and the boy became friends and played together every time they saw each other at the park.\\n\", '\\nOnce upon a time, there was a little girl named Lily. She loved to play outside and collect pretty stones in her bucket. One day, she saw her neighbor, Mr. Smith, carrying a big bag of seeds.\\n\"Hi, Mr. Smith! What are you carrying?\" asked Lily.\\n\"I\\'m carrying seeds to plant in my garden. I want it to be perfect,\" replied Mr. Smith.\\nLily smiled and continued to collect stones. As she walked back home, she noticed a big storm cloud in the sky. She knew it was going to rain soon.\\nShe quickly ran to her house, but she left her bucket outside. The rain poured down and filled her bucket with water. When she went back outside, she saw that her pretty stones were gone. The rain had washed them away.\\nLily was sad that her perfect collection was ruined. She learned that sometimes, things don\\'t go as planned.\\n', \"\\nOnce upon a time, there was a little girl named Lily. She loved to draw pictures with her crayons. One day, she drew a square on a piece of paper. It was her favorite shape!\\nBut then, her little brother came and stole her paper. He wanted to draw on it too. Lily was very upset. She told her brother that he shouldn't take things that don't belong to him. Her brother felt sorry and gave the paper back to Lily.\\nLily forgave her brother and they both drew pictures on the paper together. Lily drew a big square and her brother drew a little circle. They were both happy and played together for the rest of the day. The end.\\n\", \"\\nOnce upon a time, there was a little girl named Lily. She loved to play with her toys, but her favorite toy was her train. She liked to watch the steam come out of the train's chimney.\\nOne day, Lily's mom needed to iron her clothes. She turned on the iron and steam came out of it. Lily thought the steam was useful because it made her mom's clothes smooth and pretty.\\nLily then went back to playing with her train. She wanted to make steam come out of the train like the iron. She blew on the train's chimney, but nothing happened. She then realized that the train needed water to make steam. She filled the train with water and soon enough, steam was coming out of the chimney. Lily was very happy because she got to see her train make steam just like the iron.\\n\", \"\\nOnce upon a time, there was a boy named Timmy. Timmy loved going to the library with his mom. The library was a big building with lots of books. It was always quiet in the library, which Timmy liked.\\nOne day, Timmy went to the library with his mom, but it was very noisy. There was a man who kept screaming and making loud noises. Timmy didn't like it, and neither did his mom. They tried to ignore the man, but it was too noisy.\\nSuddenly, the man started throwing the books around and making a big mess. Everyone in the library was scared and started to scream. Timmy and his mom ran out of the library as fast as they could.\\nThe library was closed for a long time, and Timmy couldn't go back. He was sad because he loved going to the library. But he knew he couldn't go back because it wasn't safe anymore. The end.\\n\", \"\\nOnce upon a time, there was a happy little puppy named Max. Max loved to play and run around in the park with his owner. One day, Max saw a big ball and he wanted to play with it, but it was too heavy for him to lift. Max was sad.\\nSuddenly, a big dog came and took Max's ball. Max tried to get it back, but the big dog was too strong. Max's owner came to help, but the big dog was too powerful. Max and his owner went home without the ball, feeling very sad.\\nFrom that day on, Max was always afraid to go to the park. He was scared that the big dog would come and take his toys again. Max's owner tried to make him happy, but Max was still scared. Max never played in the park again. The end.\\n\", '\\nOnce upon a time, there was a brave little girl named Lily. She loved to explore the forest near her house. One day, she went on a trail and found a big puddle. \\nLily said, \"I want to jump in the puddle, but I don\\'t want to get wet!\"\\nHer friend, a talking squirrel, said, \"Why don\\'t you soak your feet in the puddle? That way, you won\\'t get too wet!\"\\nLily thought that was a great idea. She took off her shoes and socks and soaked her feet in the puddle. It felt cold and squishy, but also fun! \\nFrom that day on, Lily and her squirrel friend would go on many adventures together. They would always find new trails to explore and new puddles to soak their feet in.\\n', '\\nOnce upon a time, there was a girl named Lily. She loved to play outside in the sun. One day, she saw a butterfly that was purple. She wanted to catch it, but it flew away. \\nLily then saw her mom cleaning the glass window with a spray bottle. She asked her mom if she could help. Her mom said yes, and gave her a cloth to wipe the glass. Lily sprayed the glass with the spray bottle and wiped it with the cloth. \\nAfter cleaning the glass, Lily went back outside to play. She saw the purple butterfly again and tried to catch it. But it flew away again. Lily was sad, but she remembered how fun it was to help her mom clean the glass.\\n', '\\nOnce upon a time, there was a little boy named Timmy. Timmy loved to look at the stars at night. One day, Timmy\\'s mom gave him a present. It was a big box with a label on it that said \"lucky\". \\nTimmy was so excited to open the box. He looked at his mom and said, \"What\\'s inside?\" His mom replied, \"It\\'s a surprise! Open it up and see.\" \\nTimmy opened the box and inside was a toy car. He was so lucky to get such a cool toy. He hugged his mom and said, \"Thank you!\" \\nFrom that day on, Timmy played with his toy car every day and looked up at the stars every night. He knew he was a lucky boy to have such a great mom and a fun toy.\\n', \"\\nOnce upon a time, there was a boy named Max. Max loved to ride his bike, but his mom always told him to wear his helmet. Max didn't like his helmet because it was big and made his head hot. \\nOne day, Max went to the store with his mom. He saw a shiny new helmet that he really wanted. He asked his mom if he could get it, but she said it was too expensive. Max was sad, but he understood. \\nLater that day, Max went for a bike ride with his friends. They all had their helmets on, but Max didn't want to wear his old one. His friends told him he had to stay safe and wear his helmet. Max realized they were right and put his helmet on. He felt proud that he was staying safe like his friends.\\n\", \"\\nOnce upon a time, there was a little boy named Timmy. Timmy loved shoes and he had a pair of red shoes that he wore every day. One day, Timmy's mom noticed that his red shoes were getting too small for him. She told Timmy that they needed to go to the store to buy new shoes. Timmy was very eager to get new shoes because he wanted to show them to his friends.\\nAt the shoe store, Timmy's mom asked the salesperson to supply them with new shoes for Timmy. The salesperson brought out different shoes for Timmy to try on. Timmy tried on many shoes, but he didn't like any of them. Then, the salesperson brought out a pair of blue shoes. Timmy tried them on and he loved them! He was so happy to have new shoes.\\nTimmy's mom paid for the shoes and they left the store. Timmy was so excited to show his friends his new blue shoes. He ran all the way home, eager to show them off. When he got home, he put on his new shoes and ran outside to play with his friends. They all admired his new shoes and Timmy was very happy. From that day on, he wore his blue shoes every day.\\n\", '\\nOnce upon a time, there was a little girl named Lily. She loved to play with her toys all day long. One day, she found a shiny red piano and started to play it. She played a beautiful note, but then she accidentally broke one of the keys. \\n\"Oh no!\" said Lily. \"I broke it!\"\\n\"It\\'s okay,\" said her mom. \"Let\\'s see if we can fix it.\"\\nLily felt calm knowing that her mom would help her fix the piano. Together, they found some glue and fixed the broken key. From then on, Lily played her piano every day and made beautiful music.\\n', '\\nOnce upon a time, there was a little girl named Lily. One day, her mommy put on an apron and said, \"Let\\'s bake some cookies!\" Lily was excited because she loved cookies.\\nThey got all the ingredients out and mixed them together. Lily helped her mommy stir the batter. Then, they put the cookies in the oven to bake.\\nWhile they waited for the cookies to bake, Lily\\'s mommy said, \"Be careful, sometimes people make fake cookies that look real but taste yucky.\" Lily didn\\'t want to eat yucky cookies.\\nFinally, the cookies were done and they took them out of the oven. Lily\\'s mommy gave her a cookie to try. It was delicious! Lily was happy they didn\\'t make any fake cookies. From that day on, Lily loved baking with her mommy.\\n', '\\nOnce upon a time, there was a boy named Timmy. Timmy loved to play with his blocks. He would build tall towers and knock them down with a big crash. One day, Timmy\\'s friend came over to play. His friend had lots of blocks, too. Timmy was happy because now they could build even bigger towers together.\\nBut then, Timmy\\'s friend said something that made him sigh. \"I wish I was rich like you, Timmy. Then I could have even more blocks.\" Timmy didn\\'t understand why his friend would say that. He didn\\'t feel rich. He just had enough blocks to play with.\\nSo, Timmy decided to share his blocks with his friend. Together, they built the biggest tower they had ever made. And Timmy\\'s friend didn\\'t sigh anymore. He was happy to play with Timmy and their blocks.\\n', '\\nYesterday, there was a polite bear named Ben. Ben liked to slide down the hill. He would slide down on his belly and it was so much fun! \\nOne day, Ben saw a little bunny who was sad. The bunny had lost his carrot. Ben asked the bunny what was wrong and the bunny told him about the lost carrot. \\nBen knew how to make the bunny happy. He took the bunny to the top of the hill and let him slide down with him. The bunny had so much fun that he forgot all about his lost carrot. \\nFrom that day on, the bunny and Ben became good friends and they would slide down the hill together every day.\\n', \"\\nOnce upon a time, there was a little boy named Timmy. Timmy had a nosy brother who always wanted to know what Timmy was doing. One day, Timmy got a letter in the mail from his friend inviting him to a party. Timmy was so excited to go to the party, but he didn't want his brother to come and ruin the fun.\\nTimmy decided to hide the letter from his brother, but his brother found it anyway. His brother was so nosy that he opened the letter and found out about the party. Timmy was very upset that his brother had ruined his surprise.\\nOn the day of the party, Timmy's brother came with him even though he wasn't invited. He was very nosy and kept asking questions about everything. Timmy's friends didn't like his brother and they didn't want him there. Timmy was embarrassed and wished his brother had stayed home.\\nIn the end, the party was ruined because Timmy's brother was so nosy and wouldn't leave them alone. Timmy learned that it's not nice to keep secrets from people, but it's also not nice to be nosy and ruin surprises.\\n\", '\\nOnce upon a time, there was a little girl named Lily. She lived in a house with her mommy and daddy. One day, Lily\\'s mommy said, \"Lily, today we will decorate our house for Easter.\"\\nLily was very excited and asked, \"What is Easter?\" Her mommy explained that Easter is a special day when we celebrate with eggs and bunnies.\\nLily and her mommy started to decorate the house with colorful eggs and cute bunnies. But then, they found a disgusting spider on the wall! Lily was scared, but her mommy said, \"Don\\'t worry, we\\'ll take care of it.\"\\nAfter they got rid of the spider, they continued to decorate the house. When they finished, Lily\\'s house looked so beautiful and ready for Easter. Lily was so happy and couldn\\'t wait for the Easter bunny to come and visit her.\\n', \"\\nOnce upon a time, there was a big garage. It was a place where cars and trucks could sleep at night. One day, a big storm came and knocked down the garage. The cars and trucks were sad because they didn't have a place to sleep anymore. But then, a kind man came and he said he would restore the garage. The cars and trucks were happy again! \\nThe man worked hard to fix the garage. He used a hammer and nails and wood to make it strong again. The cars and trucks watched him work and they were excited to have their home back. When the man was finished, the garage looked even better than before! \\nThe cars and trucks were so grateful to the man for restoring their home. They decided to have a race to show him how much they appreciated his hard work. It was a very competitive race, but everyone had fun. In the end, the man was very happy to see the cars and trucks having fun in their restored garage.\\n\", \"\\nOnce upon a time, there was a big clock that tick-tocked all day and all night. The clock was very mighty and never stopped ticking. One day, a little bird flew into the clock and got stuck. The bird was scared and didn't know what to do.\\nLuckily, a kind boy saw the bird and knew what to do. He gently took the bird out of the clock and set it free. The bird was very happy and flew away.\\nThe boy felt proud of himself for helping the bird. He learned that it's important to answer when someone needs help, no matter how small they are. The clock kept ticking, but the boy felt mighty too for doing a good deed.\\n\", \"\\nOnce upon a time, there was a little bird named Tweetie. Tweetie was very lonely because he didn't have any friends to play with. He would sit on a branch all day and watch other birds fly together.\\nOne day, Tweetie saw a big, juicy worm wriggling on the ground. He wanted to grab it, but he was too scared. So, he watched it move and motion until it disappeared into the ground.\\nThe next day, Tweetie saw the same worm again. This time, he decided to be brave and grab it. He flew down and picked up the worm with his beak. As he was flying back to his branch, he saw another bird looking at him. The bird asked if he could share the worm with Tweetie. Tweetie was so happy to have a new friend and they shared the worm together. From that day on, they played together every day and Tweetie was never lonely again.\\n\", '\\nOnce upon a time, there was a little boy named Timmy. Timmy was very tired because he had been playing outside all day. He went to his mom and said, \"Mommy, I\\'m so tired. Can we go inside and rest?\"\\nHis mom said, \"Of course, Timmy. But first, let\\'s have a snack. How about some blueberries?\"\\nTimmy smiled and said, \"Yes, please!\" He loved blueberries. As they were eating, Timmy\\'s dad came home from work. He saw Timmy and said, \"Hey, Timmy! What do you call a blueberry that tells jokes?\"\\nTimmy looked confused and said, \"I don\\'t know, Daddy. What?\"\\n\"A blueberry joker!\" his dad said, laughing.\\nTimmy giggled too and said, \"That\\'s a funny joke, Daddy.\" Then he yawned and said, \"But I\\'m still tired. Can we go rest now?\"\\n', '\\nOnce upon a time, there was a little girl named Lily. She loved to play pretend with her dolls. One day, she pretended to be a chef and cooked a pretend meal for her dolls. After they were done eating, she put the pretend dishes in the dishwasher.\\nSuddenly, her little brother came into the room and saw her playing. \"What are you doing?\" he asked.\\n\"I\\'m playing pretend chef,\" Lily replied. \"Do you want to play too?\"\\nHer brother nodded and Lily gave him a pretend apron to wear. \"You look cute,\" she said.\\nTogether, they played pretend chef and cleaned the pretend dishes in the dishwasher. They had so much fun playing together that they didn\\'t even notice when their mom called them for dinner.\\n', '\\nOnce upon a time, there was a little girl named Lily. She had a new toy that she loved to play with every day. One day, her little brother came into her room and disturbed her while she was playing. \\n\"Stop disturbing me!\" Lily said to her brother. \\nHer brother didn\\'t understand what she meant, so Lily explained that disturbing means bothering someone when they don\\'t want to be bothered. \\nLater that day, Lily\\'s mom came home and showed her a new cell phone. Lily was excited to see the new phone and asked if she could play with it. Her mom said yes, but reminded her to be careful with the new phone. \\nLily played with the new phone for a while, but then accidentally dropped it on the floor. She was worried that she had broken it, but her mom reassured her that it was okay. \\nFrom that day on, Lily made sure to be careful with the new phone and reminded her brother not to disturb her when she was playing with her toys. The end.\\n', \"\\nOnce upon a time, there was a girl named Lily. She had a pet dog named Max. Max was her best friend. They liked to play together every day.\\nOne day, Lily had to go to school and she couldn't bring Max with her. Max was sad because he didn't want to be alone. Lily hugged Max and said goodbye. Max watched Lily go and felt even sadder.\\nBut then, Lily's mom came home and saw Max was sad. She played with Max and gave him lots of love. Max felt happy again. From that day on, Max knew that even when Lily had to go, he had someone to keep him company.\\n\", \"\\nOnce upon a time, there was a big dog named Max. Max had a task to do. His task was to spray water on the flowers. Max loved flowers and he loved his task. Max would run around and spray the flowers with water. The flowers grew big and beautiful because of Max's task. Max was happy because he loved to help.\\n\", '\\nOnce upon a time, there was a little mouse named Timmy. Timmy was very small and furry. One day, Timmy met a big, friendly cat named Mittens. Mittens said, \"Hello, little mouse. Would you like to play with me?\"\\nTimmy was anxious because he knew that cats usually like to eat mice. But Mittens seemed so nice, so Timmy said, \"Yes, please!\"\\nMittens and Timmy played together all day long. They chased each other and had lots of fun. But then, as the sun began to set, Mittens said, \"I have to go home now, Timmy. Can you lend me your tail to help me get out of this trap?\"\\nTimmy didn\\'t know what a trap was, but he wanted to help his new friend. So he said, \"Sure, Mittens. You can borrow my tail.\"\\nMittens used Timmy\\'s tail to try to escape from the trap, but it didn\\'t work. Mittens was stuck. Timmy was sad and scared because he didn\\'t know how to help his friend. And that\\'s how their day of fun ended in a bad way.\\n', \"\\nOnce upon a time, there was a farmer who had a big farm. He had lots of animals like cows, pigs, and sheep. One day, he wanted to go to the store to buy some food for his animals. He got in his car and drove really fast. He liked to speed because it made him feel happy.\\nAs he was driving, he saw a little bird on the side of the road. The bird looked sad and the farmer felt thoughtful. He stopped his car and got out to see if the bird was okay. The bird had hurt its wing and couldn't fly. The farmer took the bird back to his farm and took care of it until it was better.\\nFrom that day on, the farmer didn't speed anymore. He realized that it was more important to be kind and thoughtful to others, even if it meant taking things slower. The little bird became the farmer's friend and would visit him every day on the farm.\\n\", '\\nOnce upon a time, there was a little girl named Lily. She loved to play with her toys and her favorite toy was a big, red ball. One day, Lily\\'s mom asked her to help with the laundry. She gave Lily a basket and asked her to put all the dirty clothes in it. Lily was happy to help her mom and started to collect the clothes.\\nWhile she was collecting the clothes, Lily\\'s little brother came into the room. He saw the big, red ball and wanted to play with it. He started to play with it and it hit the basket, making all the clothes fall out. Lily got upset and said, \"You disturbed the basket and hurt my clothes!\" Her brother felt bad and said sorry. Lily forgave him and they both started to put the clothes back in the basket.\\nThe moral of the story is that it\\'s important to be careful and not disturb things that don\\'t belong to us. It\\'s also important to say sorry when we hurt someone or something.\\n', '\\nOnce upon a time, a jolly daughter was playing in her backyard. She saw a big ball and wanted to play with it. She tried to kick the ball, but she fell down. She stood up and tried again, but she fell down again. She needed to balance better to play with the ball. So, she held her arms out to balance and kicked the ball. She was so happy that she could play with the ball without falling down.\\n', '\\nOnce upon a time, there was a busy bee. The bee flew around the flowers all day long. One day, the bee saw a big red flower. The bee thought it was the prettiest flower it had ever seen. \\nThe bee wanted to decorate the flower with some pollen. So, the bee flew into the flower and collected some pollen. Then, the bee flew to another flower and collected more pollen. \\nAfter a while, the bee had collected enough pollen to decorate the red flower. The bee flew back to the red flower and sprinkled the pollen all over it. The flower looked even prettier with the yellow pollen on it. The bee was very happy that it could decorate the flower.\\n', '\\nOnce upon a time, there was a little girl named Lily. She loved to play pretend with her toys. One day, she pretended to be a train driver and her toys were the passengers.\\n\"Lily, do you want to go on a real train ride?\" her mom asked.\\n\"Yes, please!\" Lily replied.\\nThey went to the subway station and boarded the train. Lily was so excited to see all the different stops and people getting on and off.\\nShe saw an old woman struggling with her bags and offered to help. Her mom was proud of her for being so compassionate.\\nAfter the train ride, Lily told her mom all about her adventure and how she pretended to be a train driver. Her mom smiled and said, \"You can be anything you want to be, as long as you are kind and compassionate like you were today.\"\\n', \"\\nOnce upon a time, a brave little girl went to the park to find some pretty rocks. She found a shiny mineral that sparkled in the sun. She was so happy and wanted to show her mommy. \\nSo, she put the mineral in an envelope and wrote her mommy's name on it. Then, she went to the mailbox and mailed it to her mommy. \\nWhen her mommy got the envelope in the mail, she was so proud of her brave little girl. She gave her a big hug and told her how much she loved the shiny mineral. The little girl was so happy that she found something special for her mommy.\\n\", '\\nOnce upon a time, there was a little girl named Lily. She loved to play outside in the sunshine. One day, she found a big bag of corn in her backyard. The corn was yellow and smelled yummy.\\nLily decided to plant the corn in the ground. She watered it every day and watched it grow. But one day, she noticed that some of the corn had started to rot. It looked brown and mushy.\\nLily was uncomfortable with the rotting corn, so she picked it all off the stalks and threw it away. She was happy to have a big pile of fresh corn to eat instead. The end.\\n', '\\nOnce upon a time, there was a little boy named Timmy. Timmy loved to play outside in the sunshine. One day, Timmy found a big, bright rock in his backyard. \\n\"Mommy, look what I found!\" said Timmy, holding up the bright rock. \\n\"That\\'s very pretty, Timmy,\" said Mommy. \"But be careful, it might be sharp.\" \\nTimmy wanted to keep the bright rock, but his little sister, Lily, also wanted it. They started to argue about who should have it. \\nJust then, Daddy came outside and said, \"I have an idea. Let\\'s play a game. We\\'ll hide the rock and whoever finds it first will get to keep it.\" \\nTimmy and Lily agreed and started to search for the bright rock. After a few minutes, Timmy found it first and revealed it to everyone. \\n\"I won!\" said Timmy, holding up the rock. \\nLily was sad, but Daddy said, \"Don\\'t worry, Lily. You\\'ll find something even better one day.\" \\nTimmy was happy to have won the bright rock and they all went inside for some ice cream.\\n', '\\nOnce upon a time, there was a girl named Lily. She loved to play in the snow, but her hands always got cold. So, her mom decided to make her some mittens. They were pink and fluffy, and Lily loved them very much.\\nOne day, Lily went outside to play in the snow with her new mittens. She built a snowman and had a snowball fight with her friends. Then, her mom called her inside for a snack. She made Lily a tasty sandwich with peanut butter and jelly.\\nLily was happy and warm with her mittens and her tasty sandwich. She smiled and hugged her mom, saying \"Thank you for my mittens, Mommy. They make me so happy!\"\\n', '\\nOnce upon a time, there was a poor little girl named Lily. She lived in a small house with her mom and dad. One day, Lily and her dad went for a walk in the park. They found a stick on the ground and her dad picked it up.\\n\"Daddy, what are you going to do with that stick?\" asked Lily.\\n\"I am going to raise it up high!\" replied her dad.\\nLily was so excited to see her dad raise the stick up high. She clapped her hands and giggled. \"That\\'s so cool!\" she said.\\nAfter they finished their walk, Lily and her dad went back home. Lily\\'s mom was happy to see them and asked, \"What did you do today?\"\\n\"Daddy raised a stick up high!\" said Lily.\\nHer mom smiled and said, \"That sounds like fun. Maybe we can all go to the park next time.\"\\n', '\\nOnce upon a time, there was a little bunny named Benny. Benny was very small and loved to play in the garden. One day, Benny saw a big carrot and wanted to eat it. But, the carrot was too big for Benny to carry. So, Benny started to worry that he wouldn\\'t be able to eat the carrot.\\nSuddenly, Benny saw a magic fairy. The fairy said, \"Don\\'t worry little bunny, I can help you.\" The fairy waved her wand and the carrot became small enough for Benny to carry. Benny was so happy! He thanked the fairy and ate the carrot. From that day on, Benny knew that he didn\\'t have to worry because magic could make big things small.\\n', '\\nOnce upon a time, there was a happy little girl named Lily. She liked to play with her toys and eat candy. One day, her mommy told her they were going to visit her grandma. Lily was excited because she loved her grandma.\\nThey got into the car and drove for a long time. But when they arrived, Lily saw that her grandma was troubled. She was sad and didn\\'t want to play with Lily. Lily didn\\'t understand why her grandma was acting this way.\\nThey stayed for a little while but then had to leave. Lily was sad because she didn\\'t get to play with her grandma like she usually did. She said goodbye and hugged her grandma, but her grandma didn\\'t hug her back. Lily didn\\'t know why her grandma was acting so strange. They got back into the car and drove away. Lily asked her mommy if they could visit grandma again soon, but her mommy said \"not yet.\"\\n', \"\\nOnce upon a time, there was a little girl named Lily. She loved to play dress up with her friends. One day, Lily's mom brought her a new dress. It was pink and had a zigzag pattern on it. Lily thought it was very interesting.\\nLily put on her new dress and showed it to her friends. They thought it was pretty too. They played dress up all day and had so much fun. They even made a game where they had to zigzag around the room without touching the floor.\\nAt the end of the day, Lily's mom told her it was time to take off her dress and get ready for bed. Lily didn't want to take it off because she loved it so much. But she knew she could wear it again tomorrow and have more fun with her friends. The end.\\n\", '\\nOnce upon a time, there was a little bunny named Benny. Benny loved to play with his friends in the forest. One day, Benny was feeling sad because he couldn\\'t find his favorite carrot. \\nBenny\\'s friend, a little bird named Billy, saw that Benny was sad and asked, \"What\\'s wrong, Benny?\" \\nBenny replied, \"I lost my favorite carrot. It\\'s the one that always makes me feel comfortable.\" \\nBilly said, \"Don\\'t worry, Benny. I\\'ll help you find it.\" \\nSo, Billy flew up into the trees to get a better point of view. From up high, he saw something orange bouncing in the grass. \"Benny, look over there!\" he shouted. \\nBenny ran over and sure enough, it was his favorite carrot. \"Thank you, Billy! You\\'re the best friend ever!\" Benny said happily. \\nFrom that day on, Benny made sure to keep his favorite carrot close by so he wouldn\\'t lose it again.\\n', \"\\nOnce upon a time, there was a little girl named Lily. She loved to play outside and collect pretty rocks. One day, she found a really big rock that she wanted to keep forever. But her mommy told her that they were going on a trip and she couldn't bring the rock with her.\\nLily was very stubborn and didn't want to leave her rock behind. But her mommy told her they had to pack their bags and get ready to go. So, Lily decided to pack her rock in her backpack and bring it with her.\\nOn the trip, Lily showed her rock to everyone she met. They all thought it was very pretty and special. When they got home, Lily put her rock on her dresser and looked at it every day. She was happy that she packed it and brought it with her on the trip. The end.\\n\", '\\nOnce upon a time, there was a big factory. The factory made toys for kids to play with. Making the toys was difficult work, but the people who worked there did it with a smile on their face. \\nOne day, a little boy named Timmy went to the factory to see how the toys were made. He saw the workers serving the toys on a big conveyor belt. They worked hard to make sure each toy was perfect. \\nTimmy was so happy to see all the toys being made. He knew that the workers were doing a great job. When he went home, he told his friends all about the factory and how the workers served the toys to make kids happy.\\n', '\\nOnce upon a time, there was a little girl named Lily. She loved to play in her backyard with her toys. One day, she saw a green bell on the ground. She picked it up and rang it. Ding, dong, ding, dong! It made a beautiful sound. Lily decided to keep the bell and put it in her pocket.\\nLater that day, Lily\\'s mommy asked her what she wanted for dinner. Lily had to decide what she wanted to eat. She thought for a moment and said, \"I want macaroni and cheese, please!\" So her mommy made her favorite dinner.\\nAfter dinner, Lily went back outside to play. She remembered the green bell in her pocket and decided to ring it again. Ding, dong, ding, dong! It still sounded beautiful. Lily was so happy she decided to keep the bell forever.\\n']\n"
     ]
    }
   ],
   "source": [
    "print(chunk[:100])\n",
    "print(brev[:100])"
   ]
  },
  {
   "cell_type": "code",
   "execution_count": 94,
   "metadata": {},
   "outputs": [],
   "source": [
    "def pre_tokenize_chunk(chunk):\n",
    "    sub_chunks = re.split(\"|\".join([re.escape(\"<|endoftext|>\")]),chunk)\n",
    "    # run tokenization for each of the sub_chunks.\n",
    "    iterators = [re.finditer(PAT, sub_chunk) for sub_chunk in sub_chunks]\n",
    "    return itertools.chain(*iterators)\n",
    "\n",
    "def train_bpe(input_path: str,vocab_size: int,special_tokens: list[str]):\n",
    "    # open the input path\n",
    "    with builtins.open(input_path, \"rb\") as f:\n",
    "        # find the chunk boundaries\n",
    "        boundaries = find_chunk_boundaries(f, 4, \"<|endoftext|>\".encode(\"utf-8\"))\n",
    "        chunks = []\n",
    "        # TODO: parallelize\n",
    "        for start, end in zip(boundaries[:-1], boundaries[1:]):\n",
    "            # either parallelize by passing f \n",
    "            f.seek(start)\n",
    "            chunk = f.read(end - start).decode(\"utf-8\", errors=\"ignore\")\n",
    "            chunks.append(chunk)\n",
    "\n",
    "\n",
    "        with mp.Pool() as pool: \n",
    "            results = pool.map(pre_tokenize_chunk, chunks)\n",
    "\n",
    "        pre_tokenized = itertools.chain(*results) \n",
    "\n",
    "        return pre_tokenized\n",
    "        \n"
   ]
  },
  {
   "cell_type": "code",
   "execution_count": null,
   "metadata": {},
   "outputs": [
    {
     "name": "stderr",
     "output_type": "stream",
     "text": [
      "Process SpawnPoolWorker-6:\n",
      "Traceback (most recent call last):\n",
      "  File \"/nix/store/v0vy1c59f0vf71h64caw17hzymvg0zms-python3-3.12.10/lib/python3.12/multiprocessing/process.py\", line 314, in _bootstrap\n",
      "    self.run()\n",
      "  File \"/nix/store/v0vy1c59f0vf71h64caw17hzymvg0zms-python3-3.12.10/lib/python3.12/multiprocessing/process.py\", line 108, in run\n",
      "    self._target(*self._args, **self._kwargs)\n",
      "  File \"/nix/store/v0vy1c59f0vf71h64caw17hzymvg0zms-python3-3.12.10/lib/python3.12/multiprocessing/pool.py\", line 114, in worker\n",
      "    task = get()\n",
      "           ^^^^^\n",
      "  File \"/nix/store/v0vy1c59f0vf71h64caw17hzymvg0zms-python3-3.12.10/lib/python3.12/multiprocessing/queues.py\", line 389, in get\n",
      "    return _ForkingPickler.loads(res)\n",
      "           ^^^^^^^^^^^^^^^^^^^^^^^^^^\n",
      "AttributeError: Can't get attribute 'pre_tokenize_chunk' on <module '__main__' (<class '_frozen_importlib.BuiltinImporter'>)>\n",
      "Process SpawnPoolWorker-3:\n",
      "Traceback (most recent call last):\n",
      "  File \"/nix/store/v0vy1c59f0vf71h64caw17hzymvg0zms-python3-3.12.10/lib/python3.12/multiprocessing/process.py\", line 314, in _bootstrap\n",
      "    self.run()\n",
      "  File \"/nix/store/v0vy1c59f0vf71h64caw17hzymvg0zms-python3-3.12.10/lib/python3.12/multiprocessing/process.py\", line 108, in run\n",
      "    self._target(*self._args, **self._kwargs)\n",
      "  File \"/nix/store/v0vy1c59f0vf71h64caw17hzymvg0zms-python3-3.12.10/lib/python3.12/multiprocessing/pool.py\", line 114, in worker\n",
      "    task = get()\n",
      "           ^^^^^\n",
      "  File \"/nix/store/v0vy1c59f0vf71h64caw17hzymvg0zms-python3-3.12.10/lib/python3.12/multiprocessing/queues.py\", line 389, in get\n",
      "    return _ForkingPickler.loads(res)\n",
      "           ^^^^^^^^^^^^^^^^^^^^^^^^^^\n",
      "AttributeError: Can't get attribute 'pre_tokenize_chunk' on <module '__main__' (<class '_frozen_importlib.BuiltinImporter'>)>\n",
      "Process SpawnPoolWorker-2:\n",
      "Traceback (most recent call last):\n",
      "  File \"/nix/store/v0vy1c59f0vf71h64caw17hzymvg0zms-python3-3.12.10/lib/python3.12/multiprocessing/process.py\", line 314, in _bootstrap\n",
      "    self.run()\n",
      "  File \"/nix/store/v0vy1c59f0vf71h64caw17hzymvg0zms-python3-3.12.10/lib/python3.12/multiprocessing/process.py\", line 108, in run\n",
      "    self._target(*self._args, **self._kwargs)\n",
      "  File \"/nix/store/v0vy1c59f0vf71h64caw17hzymvg0zms-python3-3.12.10/lib/python3.12/multiprocessing/pool.py\", line 114, in worker\n",
      "    task = get()\n",
      "           ^^^^^\n",
      "  File \"/nix/store/v0vy1c59f0vf71h64caw17hzymvg0zms-python3-3.12.10/lib/python3.12/multiprocessing/queues.py\", line 389, in get\n",
      "    return _ForkingPickler.loads(res)\n",
      "           ^^^^^^^^^^^^^^^^^^^^^^^^^^\n",
      "AttributeError: Can't get attribute 'pre_tokenize_chunk' on <module '__main__' (<class '_frozen_importlib.BuiltinImporter'>)>\n",
      "Process SpawnPoolWorker-9:\n",
      "Traceback (most recent call last):\n",
      "  File \"/nix/store/v0vy1c59f0vf71h64caw17hzymvg0zms-python3-3.12.10/lib/python3.12/multiprocessing/process.py\", line 314, in _bootstrap\n",
      "    self.run()\n",
      "  File \"/nix/store/v0vy1c59f0vf71h64caw17hzymvg0zms-python3-3.12.10/lib/python3.12/multiprocessing/process.py\", line 108, in run\n",
      "    self._target(*self._args, **self._kwargs)\n",
      "  File \"/nix/store/v0vy1c59f0vf71h64caw17hzymvg0zms-python3-3.12.10/lib/python3.12/multiprocessing/pool.py\", line 114, in worker\n",
      "    task = get()\n",
      "           ^^^^^\n",
      "  File \"/nix/store/v0vy1c59f0vf71h64caw17hzymvg0zms-python3-3.12.10/lib/python3.12/multiprocessing/queues.py\", line 389, in get\n",
      "    return _ForkingPickler.loads(res)\n",
      "           ^^^^^^^^^^^^^^^^^^^^^^^^^^\n",
      "AttributeError: Can't get attribute 'pre_tokenize_chunk' on <module '__main__' (<class '_frozen_importlib.BuiltinImporter'>)>\n",
      "Process SpawnPoolWorker-7:\n",
      "Process SpawnPoolWorker-16:\n",
      "Process SpawnPoolWorker-8:\n",
      "Process SpawnPoolWorker-11:\n",
      "Process SpawnPoolWorker-12:\n",
      "Process SpawnPoolWorker-14:\n",
      "Process SpawnPoolWorker-10:\n",
      "Process SpawnPoolWorker-15:\n",
      "Process SpawnPoolWorker-5:\n",
      "Process SpawnPoolWorker-4:\n",
      "Process SpawnPoolWorker-1:\n",
      "Traceback (most recent call last):\n",
      "Traceback (most recent call last):\n",
      "Traceback (most recent call last):\n",
      "Process SpawnPoolWorker-13:\n",
      "Traceback (most recent call last):\n",
      "Traceback (most recent call last):\n",
      "Traceback (most recent call last):\n",
      "Traceback (most recent call last):\n",
      "Traceback (most recent call last):\n",
      "Traceback (most recent call last):\n",
      "Traceback (most recent call last):\n",
      "Traceback (most recent call last):\n",
      "  File \"/nix/store/v0vy1c59f0vf71h64caw17hzymvg0zms-python3-3.12.10/lib/python3.12/multiprocessing/process.py\", line 314, in _bootstrap\n",
      "    self.run()\n",
      "  File \"/nix/store/v0vy1c59f0vf71h64caw17hzymvg0zms-python3-3.12.10/lib/python3.12/multiprocessing/process.py\", line 108, in run\n",
      "    self._target(*self._args, **self._kwargs)\n",
      "  File \"/nix/store/v0vy1c59f0vf71h64caw17hzymvg0zms-python3-3.12.10/lib/python3.12/multiprocessing/pool.py\", line 114, in worker\n",
      "    task = get()\n",
      "           ^^^^^\n",
      "  File \"/nix/store/v0vy1c59f0vf71h64caw17hzymvg0zms-python3-3.12.10/lib/python3.12/multiprocessing/queues.py\", line 386, in get\n",
      "    with self._rlock:\n",
      "         ^^^^^^^^^^^\n",
      "  File \"/nix/store/v0vy1c59f0vf71h64caw17hzymvg0zms-python3-3.12.10/lib/python3.12/multiprocessing/synchronize.py\", line 95, in __enter__\n",
      "    return self._semlock.__enter__()\n",
      "           ^^^^^^^^^^^^^^^^^^^^^^^^^\n",
      "KeyboardInterrupt\n",
      "  File \"/nix/store/v0vy1c59f0vf71h64caw17hzymvg0zms-python3-3.12.10/lib/python3.12/multiprocessing/process.py\", line 314, in _bootstrap\n",
      "    self.run()\n",
      "  File \"/nix/store/v0vy1c59f0vf71h64caw17hzymvg0zms-python3-3.12.10/lib/python3.12/multiprocessing/process.py\", line 108, in run\n",
      "    self._target(*self._args, **self._kwargs)\n",
      "  File \"/nix/store/v0vy1c59f0vf71h64caw17hzymvg0zms-python3-3.12.10/lib/python3.12/multiprocessing/pool.py\", line 114, in worker\n",
      "    task = get()\n",
      "           ^^^^^\n",
      "  File \"/nix/store/v0vy1c59f0vf71h64caw17hzymvg0zms-python3-3.12.10/lib/python3.12/multiprocessing/queues.py\", line 386, in get\n",
      "    with self._rlock:\n",
      "         ^^^^^^^^^^^\n",
      "  File \"/nix/store/v0vy1c59f0vf71h64caw17hzymvg0zms-python3-3.12.10/lib/python3.12/multiprocessing/synchronize.py\", line 95, in __enter__\n",
      "    return self._semlock.__enter__()\n",
      "           ^^^^^^^^^^^^^^^^^^^^^^^^^\n",
      "KeyboardInterrupt\n",
      "  File \"/nix/store/v0vy1c59f0vf71h64caw17hzymvg0zms-python3-3.12.10/lib/python3.12/multiprocessing/process.py\", line 314, in _bootstrap\n",
      "    self.run()\n",
      "  File \"/nix/store/v0vy1c59f0vf71h64caw17hzymvg0zms-python3-3.12.10/lib/python3.12/multiprocessing/process.py\", line 108, in run\n",
      "    self._target(*self._args, **self._kwargs)\n",
      "  File \"/nix/store/v0vy1c59f0vf71h64caw17hzymvg0zms-python3-3.12.10/lib/python3.12/multiprocessing/pool.py\", line 114, in worker\n",
      "    task = get()\n",
      "           ^^^^^\n",
      "  File \"/nix/store/v0vy1c59f0vf71h64caw17hzymvg0zms-python3-3.12.10/lib/python3.12/multiprocessing/queues.py\", line 386, in get\n",
      "    with self._rlock:\n",
      "         ^^^^^^^^^^^\n",
      "  File \"/nix/store/v0vy1c59f0vf71h64caw17hzymvg0zms-python3-3.12.10/lib/python3.12/multiprocessing/synchronize.py\", line 95, in __enter__\n",
      "    return self._semlock.__enter__()\n",
      "           ^^^^^^^^^^^^^^^^^^^^^^^^^\n",
      "KeyboardInterrupt\n",
      "  File \"/nix/store/v0vy1c59f0vf71h64caw17hzymvg0zms-python3-3.12.10/lib/python3.12/multiprocessing/process.py\", line 314, in _bootstrap\n",
      "    self.run()\n",
      "  File \"/nix/store/v0vy1c59f0vf71h64caw17hzymvg0zms-python3-3.12.10/lib/python3.12/multiprocessing/process.py\", line 108, in run\n",
      "    self._target(*self._args, **self._kwargs)\n",
      "  File \"/nix/store/v0vy1c59f0vf71h64caw17hzymvg0zms-python3-3.12.10/lib/python3.12/multiprocessing/pool.py\", line 114, in worker\n",
      "    task = get()\n",
      "           ^^^^^\n",
      "  File \"/nix/store/v0vy1c59f0vf71h64caw17hzymvg0zms-python3-3.12.10/lib/python3.12/multiprocessing/queues.py\", line 386, in get\n",
      "    with self._rlock:\n",
      "         ^^^^^^^^^^^\n",
      "  File \"/nix/store/v0vy1c59f0vf71h64caw17hzymvg0zms-python3-3.12.10/lib/python3.12/multiprocessing/synchronize.py\", line 95, in __enter__\n",
      "    return self._semlock.__enter__()\n",
      "           ^^^^^^^^^^^^^^^^^^^^^^^^^\n",
      "KeyboardInterrupt\n",
      "  File \"/nix/store/v0vy1c59f0vf71h64caw17hzymvg0zms-python3-3.12.10/lib/python3.12/multiprocessing/process.py\", line 314, in _bootstrap\n",
      "    self.run()\n",
      "  File \"/nix/store/v0vy1c59f0vf71h64caw17hzymvg0zms-python3-3.12.10/lib/python3.12/multiprocessing/process.py\", line 108, in run\n",
      "    self._target(*self._args, **self._kwargs)\n",
      "  File \"/nix/store/v0vy1c59f0vf71h64caw17hzymvg0zms-python3-3.12.10/lib/python3.12/multiprocessing/pool.py\", line 114, in worker\n",
      "    task = get()\n",
      "           ^^^^^\n",
      "  File \"/nix/store/v0vy1c59f0vf71h64caw17hzymvg0zms-python3-3.12.10/lib/python3.12/multiprocessing/queues.py\", line 387, in get\n",
      "    res = self._reader.recv_bytes()\n",
      "          ^^^^^^^^^^^^^^^^^^^^^^^^^\n",
      "  File \"/nix/store/v0vy1c59f0vf71h64caw17hzymvg0zms-python3-3.12.10/lib/python3.12/multiprocessing/connection.py\", line 216, in recv_bytes\n",
      "    buf = self._recv_bytes(maxlength)\n",
      "          ^^^^^^^^^^^^^^^^^^^^^^^^^^^\n",
      "  File \"/nix/store/v0vy1c59f0vf71h64caw17hzymvg0zms-python3-3.12.10/lib/python3.12/multiprocessing/connection.py\", line 430, in _recv_bytes\n",
      "    buf = self._recv(4)\n",
      "          ^^^^^^^^^^^^^\n",
      "  File \"/nix/store/v0vy1c59f0vf71h64caw17hzymvg0zms-python3-3.12.10/lib/python3.12/multiprocessing/connection.py\", line 395, in _recv\n",
      "    chunk = read(handle, remaining)\n",
      "            ^^^^^^^^^^^^^^^^^^^^^^^\n",
      "KeyboardInterrupt\n",
      "  File \"/nix/store/v0vy1c59f0vf71h64caw17hzymvg0zms-python3-3.12.10/lib/python3.12/multiprocessing/process.py\", line 314, in _bootstrap\n",
      "    self.run()\n",
      "  File \"/nix/store/v0vy1c59f0vf71h64caw17hzymvg0zms-python3-3.12.10/lib/python3.12/multiprocessing/process.py\", line 108, in run\n",
      "    self._target(*self._args, **self._kwargs)\n",
      "  File \"/nix/store/v0vy1c59f0vf71h64caw17hzymvg0zms-python3-3.12.10/lib/python3.12/multiprocessing/pool.py\", line 114, in worker\n",
      "    task = get()\n",
      "           ^^^^^\n",
      "  File \"/nix/store/v0vy1c59f0vf71h64caw17hzymvg0zms-python3-3.12.10/lib/python3.12/multiprocessing/queues.py\", line 386, in get\n",
      "    with self._rlock:\n",
      "         ^^^^^^^^^^^\n",
      "  File \"/nix/store/v0vy1c59f0vf71h64caw17hzymvg0zms-python3-3.12.10/lib/python3.12/multiprocessing/synchronize.py\", line 95, in __enter__\n",
      "    return self._semlock.__enter__()\n",
      "           ^^^^^^^^^^^^^^^^^^^^^^^^^\n",
      "KeyboardInterrupt\n",
      "  File \"/nix/store/v0vy1c59f0vf71h64caw17hzymvg0zms-python3-3.12.10/lib/python3.12/multiprocessing/process.py\", line 314, in _bootstrap\n",
      "    self.run()\n",
      "  File \"/nix/store/v0vy1c59f0vf71h64caw17hzymvg0zms-python3-3.12.10/lib/python3.12/multiprocessing/process.py\", line 108, in run\n",
      "    self._target(*self._args, **self._kwargs)\n",
      "  File \"/nix/store/v0vy1c59f0vf71h64caw17hzymvg0zms-python3-3.12.10/lib/python3.12/multiprocessing/pool.py\", line 114, in worker\n",
      "    task = get()\n",
      "           ^^^^^\n",
      "  File \"/nix/store/v0vy1c59f0vf71h64caw17hzymvg0zms-python3-3.12.10/lib/python3.12/multiprocessing/queues.py\", line 386, in get\n",
      "    with self._rlock:\n",
      "         ^^^^^^^^^^^\n",
      "  File \"/nix/store/v0vy1c59f0vf71h64caw17hzymvg0zms-python3-3.12.10/lib/python3.12/multiprocessing/synchronize.py\", line 95, in __enter__\n",
      "    return self._semlock.__enter__()\n",
      "           ^^^^^^^^^^^^^^^^^^^^^^^^^\n",
      "KeyboardInterrupt\n",
      "  File \"/nix/store/v0vy1c59f0vf71h64caw17hzymvg0zms-python3-3.12.10/lib/python3.12/multiprocessing/process.py\", line 314, in _bootstrap\n",
      "    self.run()\n",
      "  File \"/nix/store/v0vy1c59f0vf71h64caw17hzymvg0zms-python3-3.12.10/lib/python3.12/multiprocessing/process.py\", line 108, in run\n",
      "    self._target(*self._args, **self._kwargs)\n",
      "  File \"/nix/store/v0vy1c59f0vf71h64caw17hzymvg0zms-python3-3.12.10/lib/python3.12/multiprocessing/pool.py\", line 114, in worker\n",
      "    task = get()\n",
      "           ^^^^^\n",
      "  File \"/nix/store/v0vy1c59f0vf71h64caw17hzymvg0zms-python3-3.12.10/lib/python3.12/multiprocessing/queues.py\", line 386, in get\n",
      "    with self._rlock:\n",
      "         ^^^^^^^^^^^\n",
      "  File \"/nix/store/v0vy1c59f0vf71h64caw17hzymvg0zms-python3-3.12.10/lib/python3.12/multiprocessing/synchronize.py\", line 95, in __enter__\n",
      "    return self._semlock.__enter__()\n",
      "           ^^^^^^^^^^^^^^^^^^^^^^^^^\n",
      "KeyboardInterrupt\n",
      "  File \"/nix/store/v0vy1c59f0vf71h64caw17hzymvg0zms-python3-3.12.10/lib/python3.12/multiprocessing/process.py\", line 314, in _bootstrap\n",
      "    self.run()\n",
      "  File \"/nix/store/v0vy1c59f0vf71h64caw17hzymvg0zms-python3-3.12.10/lib/python3.12/multiprocessing/process.py\", line 108, in run\n",
      "    self._target(*self._args, **self._kwargs)\n",
      "  File \"/nix/store/v0vy1c59f0vf71h64caw17hzymvg0zms-python3-3.12.10/lib/python3.12/multiprocessing/pool.py\", line 114, in worker\n",
      "    task = get()\n",
      "           ^^^^^\n",
      "  File \"/nix/store/v0vy1c59f0vf71h64caw17hzymvg0zms-python3-3.12.10/lib/python3.12/multiprocessing/queues.py\", line 386, in get\n",
      "    with self._rlock:\n",
      "         ^^^^^^^^^^^\n",
      "  File \"/nix/store/v0vy1c59f0vf71h64caw17hzymvg0zms-python3-3.12.10/lib/python3.12/multiprocessing/synchronize.py\", line 95, in __enter__\n",
      "    return self._semlock.__enter__()\n",
      "           ^^^^^^^^^^^^^^^^^^^^^^^^^\n",
      "KeyboardInterrupt\n",
      "  File \"/nix/store/v0vy1c59f0vf71h64caw17hzymvg0zms-python3-3.12.10/lib/python3.12/multiprocessing/process.py\", line 314, in _bootstrap\n",
      "    self.run()\n",
      "  File \"/nix/store/v0vy1c59f0vf71h64caw17hzymvg0zms-python3-3.12.10/lib/python3.12/multiprocessing/process.py\", line 108, in run\n",
      "    self._target(*self._args, **self._kwargs)\n",
      "  File \"/nix/store/v0vy1c59f0vf71h64caw17hzymvg0zms-python3-3.12.10/lib/python3.12/multiprocessing/pool.py\", line 114, in worker\n",
      "    task = get()\n",
      "           ^^^^^\n",
      "  File \"/nix/store/v0vy1c59f0vf71h64caw17hzymvg0zms-python3-3.12.10/lib/python3.12/multiprocessing/queues.py\", line 386, in get\n",
      "    with self._rlock:\n",
      "         ^^^^^^^^^^^\n",
      "  File \"/nix/store/v0vy1c59f0vf71h64caw17hzymvg0zms-python3-3.12.10/lib/python3.12/multiprocessing/synchronize.py\", line 95, in __enter__\n",
      "    return self._semlock.__enter__()\n",
      "           ^^^^^^^^^^^^^^^^^^^^^^^^^\n",
      "KeyboardInterrupt\n",
      "Traceback (most recent call last):\n",
      "  File \"/nix/store/v0vy1c59f0vf71h64caw17hzymvg0zms-python3-3.12.10/lib/python3.12/multiprocessing/process.py\", line 314, in _bootstrap\n",
      "    self.run()\n",
      "  File \"/nix/store/v0vy1c59f0vf71h64caw17hzymvg0zms-python3-3.12.10/lib/python3.12/multiprocessing/process.py\", line 108, in run\n",
      "    self._target(*self._args, **self._kwargs)\n",
      "  File \"/nix/store/v0vy1c59f0vf71h64caw17hzymvg0zms-python3-3.12.10/lib/python3.12/multiprocessing/pool.py\", line 114, in worker\n",
      "    task = get()\n",
      "           ^^^^^\n",
      "  File \"/nix/store/v0vy1c59f0vf71h64caw17hzymvg0zms-python3-3.12.10/lib/python3.12/multiprocessing/queues.py\", line 386, in get\n",
      "    with self._rlock:\n",
      "         ^^^^^^^^^^^\n",
      "  File \"/nix/store/v0vy1c59f0vf71h64caw17hzymvg0zms-python3-3.12.10/lib/python3.12/multiprocessing/synchronize.py\", line 95, in __enter__\n",
      "    return self._semlock.__enter__()\n",
      "           ^^^^^^^^^^^^^^^^^^^^^^^^^\n",
      "KeyboardInterrupt\n",
      "  File \"/nix/store/v0vy1c59f0vf71h64caw17hzymvg0zms-python3-3.12.10/lib/python3.12/multiprocessing/process.py\", line 314, in _bootstrap\n",
      "    self.run()\n",
      "  File \"/nix/store/v0vy1c59f0vf71h64caw17hzymvg0zms-python3-3.12.10/lib/python3.12/multiprocessing/process.py\", line 108, in run\n",
      "    self._target(*self._args, **self._kwargs)\n",
      "  File \"/nix/store/v0vy1c59f0vf71h64caw17hzymvg0zms-python3-3.12.10/lib/python3.12/multiprocessing/pool.py\", line 114, in worker\n",
      "    task = get()\n",
      "           ^^^^^\n",
      "  File \"/nix/store/v0vy1c59f0vf71h64caw17hzymvg0zms-python3-3.12.10/lib/python3.12/multiprocessing/queues.py\", line 386, in get\n",
      "    with self._rlock:\n",
      "         ^^^^^^^^^^^\n",
      "  File \"/nix/store/v0vy1c59f0vf71h64caw17hzymvg0zms-python3-3.12.10/lib/python3.12/multiprocessing/synchronize.py\", line 95, in __enter__\n",
      "    return self._semlock.__enter__()\n",
      "           ^^^^^^^^^^^^^^^^^^^^^^^^^\n",
      "KeyboardInterrupt\n"
     ]
    },
    {
     "ename": "KeyboardInterrupt",
     "evalue": "",
     "output_type": "error",
     "traceback": [
      "\u001b[31m---------------------------------------------------------------------------\u001b[39m",
      "\u001b[31mKeyboardInterrupt\u001b[39m                         Traceback (most recent call last)",
      "\u001b[36mCell\u001b[39m\u001b[36m \u001b[39m\u001b[32mIn[95]\u001b[39m\u001b[32m, line 1\u001b[39m\n\u001b[32m----> \u001b[39m\u001b[32m1\u001b[39m all_matches = \u001b[43mtrain_bpe\u001b[49m\u001b[43m(\u001b[49m\u001b[33;43m\"\u001b[39;49m\u001b[33;43m./cs336_basics/TinyStories-valid.txt\u001b[39;49m\u001b[33;43m\"\u001b[39;49m\u001b[43m,\u001b[49m\u001b[43m \u001b[49m\u001b[32;43m4\u001b[39;49m\u001b[43m,\u001b[49m\u001b[43m[\u001b[49m\u001b[43m]\u001b[49m\u001b[43m)\u001b[49m\n\u001b[32m      2\u001b[39m \u001b[38;5;28;01mfor\u001b[39;00m match \u001b[38;5;129;01min\u001b[39;00m all_matches:\n\u001b[32m      3\u001b[39m     \u001b[38;5;28mprint\u001b[39m(match.group())\n",
      "\u001b[36mCell\u001b[39m\u001b[36m \u001b[39m\u001b[32mIn[94]\u001b[39m\u001b[32m, line 22\u001b[39m, in \u001b[36mtrain_bpe\u001b[39m\u001b[34m(input_path, vocab_size, special_tokens)\u001b[39m\n\u001b[32m     18\u001b[39m     chunks.append(chunk)\n\u001b[32m     21\u001b[39m \u001b[38;5;28;01mwith\u001b[39;00m mp.Pool() \u001b[38;5;28;01mas\u001b[39;00m pool: \n\u001b[32m---> \u001b[39m\u001b[32m22\u001b[39m     results = \u001b[43mpool\u001b[49m\u001b[43m.\u001b[49m\u001b[43mmap\u001b[49m\u001b[43m(\u001b[49m\u001b[43mpre_tokenize_chunk\u001b[49m\u001b[43m,\u001b[49m\u001b[43m \u001b[49m\u001b[43mchunks\u001b[49m\u001b[43m)\u001b[49m\n\u001b[32m     24\u001b[39m pre_tokenized = itertools.chain(*results) \n\u001b[32m     26\u001b[39m \u001b[38;5;28;01mreturn\u001b[39;00m pre_tokenized\n",
      "\u001b[36mFile \u001b[39m\u001b[32m/nix/store/v0vy1c59f0vf71h64caw17hzymvg0zms-python3-3.12.10/lib/python3.12/multiprocessing/pool.py:367\u001b[39m, in \u001b[36mPool.map\u001b[39m\u001b[34m(self, func, iterable, chunksize)\u001b[39m\n\u001b[32m    362\u001b[39m \u001b[38;5;28;01mdef\u001b[39;00m\u001b[38;5;250m \u001b[39m\u001b[34mmap\u001b[39m(\u001b[38;5;28mself\u001b[39m, func, iterable, chunksize=\u001b[38;5;28;01mNone\u001b[39;00m):\n\u001b[32m    363\u001b[39m \u001b[38;5;250m    \u001b[39m\u001b[33;03m'''\u001b[39;00m\n\u001b[32m    364\u001b[39m \u001b[33;03m    Apply `func` to each element in `iterable`, collecting the results\u001b[39;00m\n\u001b[32m    365\u001b[39m \u001b[33;03m    in a list that is returned.\u001b[39;00m\n\u001b[32m    366\u001b[39m \u001b[33;03m    '''\u001b[39;00m\n\u001b[32m--> \u001b[39m\u001b[32m367\u001b[39m     \u001b[38;5;28;01mreturn\u001b[39;00m \u001b[38;5;28;43mself\u001b[39;49m\u001b[43m.\u001b[49m\u001b[43m_map_async\u001b[49m\u001b[43m(\u001b[49m\u001b[43mfunc\u001b[49m\u001b[43m,\u001b[49m\u001b[43m \u001b[49m\u001b[43miterable\u001b[49m\u001b[43m,\u001b[49m\u001b[43m \u001b[49m\u001b[43mmapstar\u001b[49m\u001b[43m,\u001b[49m\u001b[43m \u001b[49m\u001b[43mchunksize\u001b[49m\u001b[43m)\u001b[49m\u001b[43m.\u001b[49m\u001b[43mget\u001b[49m\u001b[43m(\u001b[49m\u001b[43m)\u001b[49m\n",
      "\u001b[36mFile \u001b[39m\u001b[32m/nix/store/v0vy1c59f0vf71h64caw17hzymvg0zms-python3-3.12.10/lib/python3.12/multiprocessing/pool.py:768\u001b[39m, in \u001b[36mApplyResult.get\u001b[39m\u001b[34m(self, timeout)\u001b[39m\n\u001b[32m    767\u001b[39m \u001b[38;5;28;01mdef\u001b[39;00m\u001b[38;5;250m \u001b[39m\u001b[34mget\u001b[39m(\u001b[38;5;28mself\u001b[39m, timeout=\u001b[38;5;28;01mNone\u001b[39;00m):\n\u001b[32m--> \u001b[39m\u001b[32m768\u001b[39m     \u001b[38;5;28;43mself\u001b[39;49m\u001b[43m.\u001b[49m\u001b[43mwait\u001b[49m\u001b[43m(\u001b[49m\u001b[43mtimeout\u001b[49m\u001b[43m)\u001b[49m\n\u001b[32m    769\u001b[39m     \u001b[38;5;28;01mif\u001b[39;00m \u001b[38;5;129;01mnot\u001b[39;00m \u001b[38;5;28mself\u001b[39m.ready():\n\u001b[32m    770\u001b[39m         \u001b[38;5;28;01mraise\u001b[39;00m \u001b[38;5;167;01mTimeoutError\u001b[39;00m\n",
      "\u001b[36mFile \u001b[39m\u001b[32m/nix/store/v0vy1c59f0vf71h64caw17hzymvg0zms-python3-3.12.10/lib/python3.12/multiprocessing/pool.py:765\u001b[39m, in \u001b[36mApplyResult.wait\u001b[39m\u001b[34m(self, timeout)\u001b[39m\n\u001b[32m    764\u001b[39m \u001b[38;5;28;01mdef\u001b[39;00m\u001b[38;5;250m \u001b[39m\u001b[34mwait\u001b[39m(\u001b[38;5;28mself\u001b[39m, timeout=\u001b[38;5;28;01mNone\u001b[39;00m):\n\u001b[32m--> \u001b[39m\u001b[32m765\u001b[39m     \u001b[38;5;28;43mself\u001b[39;49m\u001b[43m.\u001b[49m\u001b[43m_event\u001b[49m\u001b[43m.\u001b[49m\u001b[43mwait\u001b[49m\u001b[43m(\u001b[49m\u001b[43mtimeout\u001b[49m\u001b[43m)\u001b[49m\n",
      "\u001b[36mFile \u001b[39m\u001b[32m/nix/store/v0vy1c59f0vf71h64caw17hzymvg0zms-python3-3.12.10/lib/python3.12/threading.py:655\u001b[39m, in \u001b[36mEvent.wait\u001b[39m\u001b[34m(self, timeout)\u001b[39m\n\u001b[32m    653\u001b[39m signaled = \u001b[38;5;28mself\u001b[39m._flag\n\u001b[32m    654\u001b[39m \u001b[38;5;28;01mif\u001b[39;00m \u001b[38;5;129;01mnot\u001b[39;00m signaled:\n\u001b[32m--> \u001b[39m\u001b[32m655\u001b[39m     signaled = \u001b[38;5;28;43mself\u001b[39;49m\u001b[43m.\u001b[49m\u001b[43m_cond\u001b[49m\u001b[43m.\u001b[49m\u001b[43mwait\u001b[49m\u001b[43m(\u001b[49m\u001b[43mtimeout\u001b[49m\u001b[43m)\u001b[49m\n\u001b[32m    656\u001b[39m \u001b[38;5;28;01mreturn\u001b[39;00m signaled\n",
      "\u001b[36mFile \u001b[39m\u001b[32m/nix/store/v0vy1c59f0vf71h64caw17hzymvg0zms-python3-3.12.10/lib/python3.12/threading.py:355\u001b[39m, in \u001b[36mCondition.wait\u001b[39m\u001b[34m(self, timeout)\u001b[39m\n\u001b[32m    353\u001b[39m \u001b[38;5;28;01mtry\u001b[39;00m:    \u001b[38;5;66;03m# restore state no matter what (e.g., KeyboardInterrupt)\u001b[39;00m\n\u001b[32m    354\u001b[39m     \u001b[38;5;28;01mif\u001b[39;00m timeout \u001b[38;5;129;01mis\u001b[39;00m \u001b[38;5;28;01mNone\u001b[39;00m:\n\u001b[32m--> \u001b[39m\u001b[32m355\u001b[39m         \u001b[43mwaiter\u001b[49m\u001b[43m.\u001b[49m\u001b[43macquire\u001b[49m\u001b[43m(\u001b[49m\u001b[43m)\u001b[49m\n\u001b[32m    356\u001b[39m         gotit = \u001b[38;5;28;01mTrue\u001b[39;00m\n\u001b[32m    357\u001b[39m     \u001b[38;5;28;01melse\u001b[39;00m:\n",
      "\u001b[31mKeyboardInterrupt\u001b[39m: "
     ]
    }
   ],
   "source": [
    "all_matches = train_bpe(\"./cs336_basics/TinyStories-valid.txt\", 4,[])\n",
    "for i, match in enumerate(all_matches):\n",
    "    if i >= 5:\n",
    "        break\n",
    "    print(match.group())"
   ]
  },
  {
   "cell_type": "code",
   "execution_count": null,
   "metadata": {},
   "outputs": [],
   "source": []
  }
 ],
 "metadata": {
  "kernelspec": {
   "display_name": "Python 3 (ipykernel)",
   "language": "python",
   "name": "python3"
  },
  "language_info": {
   "codemirror_mode": {
    "name": "ipython",
    "version": 3
   },
   "file_extension": ".py",
   "mimetype": "text/x-python",
   "name": "python",
   "nbconvert_exporter": "python",
   "pygments_lexer": "ipython3",
   "version": "3.12.10"
  }
 },
 "nbformat": 4,
 "nbformat_minor": 2
}
